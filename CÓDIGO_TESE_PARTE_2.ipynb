{
  "nbformat": 4,
  "nbformat_minor": 0,
  "metadata": {
    "colab": {
      "provenance": [],
      "collapsed_sections": [
        "wDjrrVmMYf_v",
        "4DpEYa9uYsp2",
        "vdUwPNf02jhM",
        "LiGV0Mq1Y_6z",
        "bhSbs30O1THP",
        "2QSAiouM3Iap",
        "tvfhZta4_yzk"
      ],
      "authorship_tag": "ABX9TyNaEBmOeEVI+6EQ44dT+Woo",
      "include_colab_link": true
    },
    "kernelspec": {
      "name": "python3",
      "display_name": "Python 3"
    },
    "language_info": {
      "name": "python"
    }
  },
  "cells": [
    {
      "cell_type": "markdown",
      "metadata": {
        "id": "view-in-github",
        "colab_type": "text"
      },
      "source": [
        "<a href=\"https://colab.research.google.com/github/francianerod/Doutorado-ESAN-UFMS/blob/main/C%C3%93DIGO_TESE_PARTE_2.ipynb\" target=\"_parent\"><img src=\"https://colab.research.google.com/assets/colab-badge.svg\" alt=\"Open In Colab\"/></a>"
      ]
    },
    {
      "cell_type": "markdown",
      "source": [
        "**Código feito por:** Franciane Rodrigues\n",
        "\n",
        "**Parte 2:** Avaliação do grau de significância do fator clima da PTF da soja e proposta de modelo regressivo para rendimento (kg/ha)\n",
        "\n",
        "**Técnica:** Técnica Multivariada Confirmatória\n",
        "\n",
        "**Periodo:** 2006 e 2017 \n",
        "\n",
        "**Fonte de dados:** PAM-IBGE, CENSO AGROPECUÁRIO, IPEADATA e ERA5/meteoblue. "
      ],
      "metadata": {
        "id": "W8rV-DrA8BvV"
      }
    },
    {
      "cell_type": "code",
      "execution_count": null,
      "metadata": {
        "id": "D0r4CUKa7lgu",
        "outputId": "0ddab587-c084-4a3e-9f9e-4688e8d3db6e",
        "colab": {
          "base_uri": "https://localhost:8080/"
        }
      },
      "outputs": [
        {
          "output_type": "stream",
          "name": "stdout",
          "text": [
            "Drive already mounted at /content/drive; to attempt to forcibly remount, call drive.mount(\"/content/drive\", force_remount=True).\n"
          ]
        }
      ],
      "source": [
        "# Comando de abertura para Google Drive\n",
        "from google.colab import drive\n",
        "drive.mount('/content/drive')"
      ]
    },
    {
      "cell_type": "markdown",
      "source": [
        "### **INSTALAÇÃO E ABERTURA DE PACOTES GERAIS** "
      ],
      "metadata": {
        "id": "wDjrrVmMYf_v"
      }
    },
    {
      "cell_type": "code",
      "source": [
        "#!pip install pandas-profiling\n",
        "#!pip install --upgrade pandas-profiling"
      ],
      "metadata": {
        "id": "O4uHe7vA-ONc"
      },
      "execution_count": null,
      "outputs": []
    },
    {
      "cell_type": "code",
      "source": [
        "# Importação das bibliotecas\n",
        "import numpy as np\n",
        "import pandas as pd\n",
        "import seaborn as sns\n",
        "import matplotlib.pylab as plt\n",
        "#from pandas_profiling import ProfileReport\n",
        "from sklearn.preprocessing import StandardScaler\n",
        "import statsmodels.api as sm"
      ],
      "metadata": {
        "id": "QNok24lq8_8l"
      },
      "execution_count": null,
      "outputs": []
    },
    {
      "cell_type": "markdown",
      "source": [
        "### **BASE DE DADOS**"
      ],
      "metadata": {
        "id": "4DpEYa9uYsp2"
      }
    },
    {
      "cell_type": "code",
      "source": [
        "# Base de dados \n",
        "df2 = pd.read_excel('/content/drive/MyDrive/Tese/Dados TESE - PARTE 2.xlsx', sheet_name= 'Oficial')\n",
        "df2.head()"
      ],
      "metadata": {
        "id": "xbBE6ds29IAx",
        "outputId": "01c416ca-7119-4d59-920f-ca48a50ac01a",
        "colab": {
          "base_uri": "https://localhost:8080/",
          "height": 285
        }
      },
      "execution_count": null,
      "outputs": [
        {
          "output_type": "execute_result",
          "data": {
            "text/plain": [
              "   Rendimento médio (kg/ha)  Área colhida (ha)  Quantidade produzida (ton)  \\\n",
              "0                      2300              25000                       57500   \n",
              "1                      2100               9000                       18900   \n",
              "2                      1391              35600                       49555   \n",
              "3                      2700                180                         486   \n",
              "4                      2500               3800                        9500   \n",
              "\n",
              "   Valor de produção (mil reais)  Total de contratos  \\\n",
              "0                          19550                  23   \n",
              "1                           6426                   5   \n",
              "2                          18088                  55   \n",
              "3                            170                   4   \n",
              "4                           3249                   7   \n",
              "\n",
              "   Estoque de crédito rural (reais)  Pessoal ocupado  Número de maquinário  \\\n",
              "0                      5.210879e+06              179                   398   \n",
              "1                      5.751346e+05              114                    90   \n",
              "2                      6.315060e+06              477                   780   \n",
              "3                      3.055913e+05              258                    50   \n",
              "4                      3.209651e+05               96                   106   \n",
              "\n",
              "   Temperatura Media Anual (°C)  Precipitação Media Semestral (mm)  \n",
              "0                          25.0                             585.50  \n",
              "1                          25.6                             626.60  \n",
              "2                          22.8                             625.05  \n",
              "3                          25.8                             678.30  \n",
              "4                          24.7                             576.40  "
            ],
            "text/html": [
              "\n",
              "  <div id=\"df-787afb87-9336-4c0a-9815-f19e887beaf2\">\n",
              "    <div class=\"colab-df-container\">\n",
              "      <div>\n",
              "<style scoped>\n",
              "    .dataframe tbody tr th:only-of-type {\n",
              "        vertical-align: middle;\n",
              "    }\n",
              "\n",
              "    .dataframe tbody tr th {\n",
              "        vertical-align: top;\n",
              "    }\n",
              "\n",
              "    .dataframe thead th {\n",
              "        text-align: right;\n",
              "    }\n",
              "</style>\n",
              "<table border=\"1\" class=\"dataframe\">\n",
              "  <thead>\n",
              "    <tr style=\"text-align: right;\">\n",
              "      <th></th>\n",
              "      <th>Rendimento médio (kg/ha)</th>\n",
              "      <th>Área colhida (ha)</th>\n",
              "      <th>Quantidade produzida (ton)</th>\n",
              "      <th>Valor de produção (mil reais)</th>\n",
              "      <th>Total de contratos</th>\n",
              "      <th>Estoque de crédito rural (reais)</th>\n",
              "      <th>Pessoal ocupado</th>\n",
              "      <th>Número de maquinário</th>\n",
              "      <th>Temperatura Media Anual (°C)</th>\n",
              "      <th>Precipitação Media Semestral (mm)</th>\n",
              "    </tr>\n",
              "  </thead>\n",
              "  <tbody>\n",
              "    <tr>\n",
              "      <th>0</th>\n",
              "      <td>2300</td>\n",
              "      <td>25000</td>\n",
              "      <td>57500</td>\n",
              "      <td>19550</td>\n",
              "      <td>23</td>\n",
              "      <td>5.210879e+06</td>\n",
              "      <td>179</td>\n",
              "      <td>398</td>\n",
              "      <td>25.0</td>\n",
              "      <td>585.50</td>\n",
              "    </tr>\n",
              "    <tr>\n",
              "      <th>1</th>\n",
              "      <td>2100</td>\n",
              "      <td>9000</td>\n",
              "      <td>18900</td>\n",
              "      <td>6426</td>\n",
              "      <td>5</td>\n",
              "      <td>5.751346e+05</td>\n",
              "      <td>114</td>\n",
              "      <td>90</td>\n",
              "      <td>25.6</td>\n",
              "      <td>626.60</td>\n",
              "    </tr>\n",
              "    <tr>\n",
              "      <th>2</th>\n",
              "      <td>1391</td>\n",
              "      <td>35600</td>\n",
              "      <td>49555</td>\n",
              "      <td>18088</td>\n",
              "      <td>55</td>\n",
              "      <td>6.315060e+06</td>\n",
              "      <td>477</td>\n",
              "      <td>780</td>\n",
              "      <td>22.8</td>\n",
              "      <td>625.05</td>\n",
              "    </tr>\n",
              "    <tr>\n",
              "      <th>3</th>\n",
              "      <td>2700</td>\n",
              "      <td>180</td>\n",
              "      <td>486</td>\n",
              "      <td>170</td>\n",
              "      <td>4</td>\n",
              "      <td>3.055913e+05</td>\n",
              "      <td>258</td>\n",
              "      <td>50</td>\n",
              "      <td>25.8</td>\n",
              "      <td>678.30</td>\n",
              "    </tr>\n",
              "    <tr>\n",
              "      <th>4</th>\n",
              "      <td>2500</td>\n",
              "      <td>3800</td>\n",
              "      <td>9500</td>\n",
              "      <td>3249</td>\n",
              "      <td>7</td>\n",
              "      <td>3.209651e+05</td>\n",
              "      <td>96</td>\n",
              "      <td>106</td>\n",
              "      <td>24.7</td>\n",
              "      <td>576.40</td>\n",
              "    </tr>\n",
              "  </tbody>\n",
              "</table>\n",
              "</div>\n",
              "      <button class=\"colab-df-convert\" onclick=\"convertToInteractive('df-787afb87-9336-4c0a-9815-f19e887beaf2')\"\n",
              "              title=\"Convert this dataframe to an interactive table.\"\n",
              "              style=\"display:none;\">\n",
              "        \n",
              "  <svg xmlns=\"http://www.w3.org/2000/svg\" height=\"24px\"viewBox=\"0 0 24 24\"\n",
              "       width=\"24px\">\n",
              "    <path d=\"M0 0h24v24H0V0z\" fill=\"none\"/>\n",
              "    <path d=\"M18.56 5.44l.94 2.06.94-2.06 2.06-.94-2.06-.94-.94-2.06-.94 2.06-2.06.94zm-11 1L8.5 8.5l.94-2.06 2.06-.94-2.06-.94L8.5 2.5l-.94 2.06-2.06.94zm10 10l.94 2.06.94-2.06 2.06-.94-2.06-.94-.94-2.06-.94 2.06-2.06.94z\"/><path d=\"M17.41 7.96l-1.37-1.37c-.4-.4-.92-.59-1.43-.59-.52 0-1.04.2-1.43.59L10.3 9.45l-7.72 7.72c-.78.78-.78 2.05 0 2.83L4 21.41c.39.39.9.59 1.41.59.51 0 1.02-.2 1.41-.59l7.78-7.78 2.81-2.81c.8-.78.8-2.07 0-2.86zM5.41 20L4 18.59l7.72-7.72 1.47 1.35L5.41 20z\"/>\n",
              "  </svg>\n",
              "      </button>\n",
              "      \n",
              "  <style>\n",
              "    .colab-df-container {\n",
              "      display:flex;\n",
              "      flex-wrap:wrap;\n",
              "      gap: 12px;\n",
              "    }\n",
              "\n",
              "    .colab-df-convert {\n",
              "      background-color: #E8F0FE;\n",
              "      border: none;\n",
              "      border-radius: 50%;\n",
              "      cursor: pointer;\n",
              "      display: none;\n",
              "      fill: #1967D2;\n",
              "      height: 32px;\n",
              "      padding: 0 0 0 0;\n",
              "      width: 32px;\n",
              "    }\n",
              "\n",
              "    .colab-df-convert:hover {\n",
              "      background-color: #E2EBFA;\n",
              "      box-shadow: 0px 1px 2px rgba(60, 64, 67, 0.3), 0px 1px 3px 1px rgba(60, 64, 67, 0.15);\n",
              "      fill: #174EA6;\n",
              "    }\n",
              "\n",
              "    [theme=dark] .colab-df-convert {\n",
              "      background-color: #3B4455;\n",
              "      fill: #D2E3FC;\n",
              "    }\n",
              "\n",
              "    [theme=dark] .colab-df-convert:hover {\n",
              "      background-color: #434B5C;\n",
              "      box-shadow: 0px 1px 3px 1px rgba(0, 0, 0, 0.15);\n",
              "      filter: drop-shadow(0px 1px 2px rgba(0, 0, 0, 0.3));\n",
              "      fill: #FFFFFF;\n",
              "    }\n",
              "  </style>\n",
              "\n",
              "      <script>\n",
              "        const buttonEl =\n",
              "          document.querySelector('#df-787afb87-9336-4c0a-9815-f19e887beaf2 button.colab-df-convert');\n",
              "        buttonEl.style.display =\n",
              "          google.colab.kernel.accessAllowed ? 'block' : 'none';\n",
              "\n",
              "        async function convertToInteractive(key) {\n",
              "          const element = document.querySelector('#df-787afb87-9336-4c0a-9815-f19e887beaf2');\n",
              "          const dataTable =\n",
              "            await google.colab.kernel.invokeFunction('convertToInteractive',\n",
              "                                                     [key], {});\n",
              "          if (!dataTable) return;\n",
              "\n",
              "          const docLinkHtml = 'Like what you see? Visit the ' +\n",
              "            '<a target=\"_blank\" href=https://colab.research.google.com/notebooks/data_table.ipynb>data table notebook</a>'\n",
              "            + ' to learn more about interactive tables.';\n",
              "          element.innerHTML = '';\n",
              "          dataTable['output_type'] = 'display_data';\n",
              "          await google.colab.output.renderOutput(dataTable, element);\n",
              "          const docLink = document.createElement('div');\n",
              "          docLink.innerHTML = docLinkHtml;\n",
              "          element.appendChild(docLink);\n",
              "        }\n",
              "      </script>\n",
              "    </div>\n",
              "  </div>\n",
              "  "
            ]
          },
          "metadata": {},
          "execution_count": 4
        }
      ]
    },
    {
      "cell_type": "markdown",
      "source": [
        "### **RELATÓRIO DE ANÁLISE DE DADOS EXPLORATÓRIA**"
      ],
      "metadata": {
        "id": "vdUwPNf02jhM"
      }
    },
    {
      "cell_type": "code",
      "source": [
        "#Informação da base de dados\n",
        "#df2.info()"
      ],
      "metadata": {
        "id": "GmtJfi2iMtUB"
      },
      "execution_count": null,
      "outputs": []
    },
    {
      "cell_type": "code",
      "source": [
        "# executa a função que gera o relatório\n",
        "# relatorio = ProfileReport(df2, title='Rendimento')\n",
        "# relatorio.to_file(output_file=\"relatorio_parte2.html\")"
      ],
      "metadata": {
        "id": "A-aQf8999Kma"
      },
      "execution_count": null,
      "outputs": []
    },
    {
      "cell_type": "markdown",
      "source": [
        "### **PRÉ-PROCESSAMENTO DOS DADOS**"
      ],
      "metadata": {
        "id": "LiGV0Mq1Y_6z"
      }
    },
    {
      "cell_type": "code",
      "source": [
        "# Padronizando os dados\n",
        "from sklearn.preprocessing import StandardScaler\n",
        "\n",
        "# Cria o objeto scaler\n",
        "scaler = StandardScaler()\n",
        "\n",
        "# Fit e transformação dos dados\n",
        "df2_padronizado = pd.DataFrame(scaler.fit_transform(df2))\n",
        "\n",
        "# Criando um dicionário de nomes\n",
        "nomes= {0: \"Rendimento médio\", \n",
        "        1: \"Área colhida\", \n",
        "        2: \"Quantidade produzida\",\n",
        "        3: \"Valor de produção\",\n",
        "        4: \"Total de Contratos\",\n",
        "        5: \"Estoque de crédito rural\",\n",
        "        6: \"Pessoal ocupado\",\n",
        "        7: \"Maquinário\",\n",
        "        8: \"Temperatura\",\n",
        "        9: \"Precipitação\"\n",
        "        }\n",
        "\n",
        "# Renomeando as colunas\n",
        "df2_padronizado = df2_padronizado.rename(columns=nomes)\n",
        "df2_padronizado"
      ],
      "metadata": {
        "id": "ErUrY5piLlzL",
        "outputId": "8effe38c-fa95-4fd3-acf9-a4694c7a5871",
        "colab": {
          "base_uri": "https://localhost:8080/",
          "height": 485
        }
      },
      "execution_count": null,
      "outputs": [
        {
          "output_type": "execute_result",
          "data": {
            "text/plain": [
              "     Rendimento médio  Área colhida  Quantidade produzida  Valor de produção  \\\n",
              "0           -0.560672     -0.150966             -0.237493          -0.370283   \n",
              "1           -0.828556     -0.481051             -0.484046          -0.468659   \n",
              "2           -1.778205      0.067716             -0.288241          -0.381242   \n",
              "3           -0.024904     -0.663011             -0.601663          -0.515552   \n",
              "4           -0.292788     -0.588329             -0.544088          -0.492473   \n",
              "..                ...           ...                   ...                ...   \n",
              "135         -0.024904     -0.377900             -0.363325          -0.256152   \n",
              "136          0.376922     -0.571825             -0.516622          -0.428586   \n",
              "137          1.019844     -0.354175             -0.268031          -0.155243   \n",
              "138         -0.740154     -0.659504             -0.599926          -0.511715   \n",
              "139          0.109038     -0.522312             -0.479575          -0.383881   \n",
              "\n",
              "     Total de Contratos  Estoque de crédito rural  Pessoal ocupado  \\\n",
              "0             -0.197154                 -0.108761        -0.588792   \n",
              "1             -0.572970                 -0.377708        -0.642162   \n",
              "2              0.470963                 -0.044701        -0.344112   \n",
              "3             -0.593849                 -0.393345        -0.523927   \n",
              "4             -0.531213                 -0.392453        -0.656941   \n",
              "..                  ...                       ...              ...   \n",
              "135           -0.322426                 -0.355918        -0.470558   \n",
              "136           -0.447698                 -0.374358        -0.536244   \n",
              "137           -0.134518                 -0.066699         0.223250   \n",
              "138           -0.510334                  0.749460        -0.680753   \n",
              "139           -0.405941                 -0.388823        -0.220130   \n",
              "\n",
              "     Maquinário  Temperatura  Precipitação  \n",
              "0     -0.506809     0.904984     -1.449643  \n",
              "1     -0.862493     1.551401     -1.057093  \n",
              "2     -0.065668    -1.465212     -1.071897  \n",
              "3     -0.908685     1.766873     -0.563301  \n",
              "4     -0.844016     0.581775     -1.536559  \n",
              "..          ...          ...           ...  \n",
              "135   -0.354373    -1.465212      0.729442  \n",
              "136   -0.721605     0.258567      0.366022  \n",
              "137    0.555624     0.150831      0.395153  \n",
              "138    1.641154     0.797248     -0.432450  \n",
              "139   -0.494106    -0.711059      1.281496  \n",
              "\n",
              "[140 rows x 10 columns]"
            ],
            "text/html": [
              "\n",
              "  <div id=\"df-1a66aee0-cc36-49b5-854b-1239444164ed\">\n",
              "    <div class=\"colab-df-container\">\n",
              "      <div>\n",
              "<style scoped>\n",
              "    .dataframe tbody tr th:only-of-type {\n",
              "        vertical-align: middle;\n",
              "    }\n",
              "\n",
              "    .dataframe tbody tr th {\n",
              "        vertical-align: top;\n",
              "    }\n",
              "\n",
              "    .dataframe thead th {\n",
              "        text-align: right;\n",
              "    }\n",
              "</style>\n",
              "<table border=\"1\" class=\"dataframe\">\n",
              "  <thead>\n",
              "    <tr style=\"text-align: right;\">\n",
              "      <th></th>\n",
              "      <th>Rendimento médio</th>\n",
              "      <th>Área colhida</th>\n",
              "      <th>Quantidade produzida</th>\n",
              "      <th>Valor de produção</th>\n",
              "      <th>Total de Contratos</th>\n",
              "      <th>Estoque de crédito rural</th>\n",
              "      <th>Pessoal ocupado</th>\n",
              "      <th>Maquinário</th>\n",
              "      <th>Temperatura</th>\n",
              "      <th>Precipitação</th>\n",
              "    </tr>\n",
              "  </thead>\n",
              "  <tbody>\n",
              "    <tr>\n",
              "      <th>0</th>\n",
              "      <td>-0.560672</td>\n",
              "      <td>-0.150966</td>\n",
              "      <td>-0.237493</td>\n",
              "      <td>-0.370283</td>\n",
              "      <td>-0.197154</td>\n",
              "      <td>-0.108761</td>\n",
              "      <td>-0.588792</td>\n",
              "      <td>-0.506809</td>\n",
              "      <td>0.904984</td>\n",
              "      <td>-1.449643</td>\n",
              "    </tr>\n",
              "    <tr>\n",
              "      <th>1</th>\n",
              "      <td>-0.828556</td>\n",
              "      <td>-0.481051</td>\n",
              "      <td>-0.484046</td>\n",
              "      <td>-0.468659</td>\n",
              "      <td>-0.572970</td>\n",
              "      <td>-0.377708</td>\n",
              "      <td>-0.642162</td>\n",
              "      <td>-0.862493</td>\n",
              "      <td>1.551401</td>\n",
              "      <td>-1.057093</td>\n",
              "    </tr>\n",
              "    <tr>\n",
              "      <th>2</th>\n",
              "      <td>-1.778205</td>\n",
              "      <td>0.067716</td>\n",
              "      <td>-0.288241</td>\n",
              "      <td>-0.381242</td>\n",
              "      <td>0.470963</td>\n",
              "      <td>-0.044701</td>\n",
              "      <td>-0.344112</td>\n",
              "      <td>-0.065668</td>\n",
              "      <td>-1.465212</td>\n",
              "      <td>-1.071897</td>\n",
              "    </tr>\n",
              "    <tr>\n",
              "      <th>3</th>\n",
              "      <td>-0.024904</td>\n",
              "      <td>-0.663011</td>\n",
              "      <td>-0.601663</td>\n",
              "      <td>-0.515552</td>\n",
              "      <td>-0.593849</td>\n",
              "      <td>-0.393345</td>\n",
              "      <td>-0.523927</td>\n",
              "      <td>-0.908685</td>\n",
              "      <td>1.766873</td>\n",
              "      <td>-0.563301</td>\n",
              "    </tr>\n",
              "    <tr>\n",
              "      <th>4</th>\n",
              "      <td>-0.292788</td>\n",
              "      <td>-0.588329</td>\n",
              "      <td>-0.544088</td>\n",
              "      <td>-0.492473</td>\n",
              "      <td>-0.531213</td>\n",
              "      <td>-0.392453</td>\n",
              "      <td>-0.656941</td>\n",
              "      <td>-0.844016</td>\n",
              "      <td>0.581775</td>\n",
              "      <td>-1.536559</td>\n",
              "    </tr>\n",
              "    <tr>\n",
              "      <th>...</th>\n",
              "      <td>...</td>\n",
              "      <td>...</td>\n",
              "      <td>...</td>\n",
              "      <td>...</td>\n",
              "      <td>...</td>\n",
              "      <td>...</td>\n",
              "      <td>...</td>\n",
              "      <td>...</td>\n",
              "      <td>...</td>\n",
              "      <td>...</td>\n",
              "    </tr>\n",
              "    <tr>\n",
              "      <th>135</th>\n",
              "      <td>-0.024904</td>\n",
              "      <td>-0.377900</td>\n",
              "      <td>-0.363325</td>\n",
              "      <td>-0.256152</td>\n",
              "      <td>-0.322426</td>\n",
              "      <td>-0.355918</td>\n",
              "      <td>-0.470558</td>\n",
              "      <td>-0.354373</td>\n",
              "      <td>-1.465212</td>\n",
              "      <td>0.729442</td>\n",
              "    </tr>\n",
              "    <tr>\n",
              "      <th>136</th>\n",
              "      <td>0.376922</td>\n",
              "      <td>-0.571825</td>\n",
              "      <td>-0.516622</td>\n",
              "      <td>-0.428586</td>\n",
              "      <td>-0.447698</td>\n",
              "      <td>-0.374358</td>\n",
              "      <td>-0.536244</td>\n",
              "      <td>-0.721605</td>\n",
              "      <td>0.258567</td>\n",
              "      <td>0.366022</td>\n",
              "    </tr>\n",
              "    <tr>\n",
              "      <th>137</th>\n",
              "      <td>1.019844</td>\n",
              "      <td>-0.354175</td>\n",
              "      <td>-0.268031</td>\n",
              "      <td>-0.155243</td>\n",
              "      <td>-0.134518</td>\n",
              "      <td>-0.066699</td>\n",
              "      <td>0.223250</td>\n",
              "      <td>0.555624</td>\n",
              "      <td>0.150831</td>\n",
              "      <td>0.395153</td>\n",
              "    </tr>\n",
              "    <tr>\n",
              "      <th>138</th>\n",
              "      <td>-0.740154</td>\n",
              "      <td>-0.659504</td>\n",
              "      <td>-0.599926</td>\n",
              "      <td>-0.511715</td>\n",
              "      <td>-0.510334</td>\n",
              "      <td>0.749460</td>\n",
              "      <td>-0.680753</td>\n",
              "      <td>1.641154</td>\n",
              "      <td>0.797248</td>\n",
              "      <td>-0.432450</td>\n",
              "    </tr>\n",
              "    <tr>\n",
              "      <th>139</th>\n",
              "      <td>0.109038</td>\n",
              "      <td>-0.522312</td>\n",
              "      <td>-0.479575</td>\n",
              "      <td>-0.383881</td>\n",
              "      <td>-0.405941</td>\n",
              "      <td>-0.388823</td>\n",
              "      <td>-0.220130</td>\n",
              "      <td>-0.494106</td>\n",
              "      <td>-0.711059</td>\n",
              "      <td>1.281496</td>\n",
              "    </tr>\n",
              "  </tbody>\n",
              "</table>\n",
              "<p>140 rows × 10 columns</p>\n",
              "</div>\n",
              "      <button class=\"colab-df-convert\" onclick=\"convertToInteractive('df-1a66aee0-cc36-49b5-854b-1239444164ed')\"\n",
              "              title=\"Convert this dataframe to an interactive table.\"\n",
              "              style=\"display:none;\">\n",
              "        \n",
              "  <svg xmlns=\"http://www.w3.org/2000/svg\" height=\"24px\"viewBox=\"0 0 24 24\"\n",
              "       width=\"24px\">\n",
              "    <path d=\"M0 0h24v24H0V0z\" fill=\"none\"/>\n",
              "    <path d=\"M18.56 5.44l.94 2.06.94-2.06 2.06-.94-2.06-.94-.94-2.06-.94 2.06-2.06.94zm-11 1L8.5 8.5l.94-2.06 2.06-.94-2.06-.94L8.5 2.5l-.94 2.06-2.06.94zm10 10l.94 2.06.94-2.06 2.06-.94-2.06-.94-.94-2.06-.94 2.06-2.06.94z\"/><path d=\"M17.41 7.96l-1.37-1.37c-.4-.4-.92-.59-1.43-.59-.52 0-1.04.2-1.43.59L10.3 9.45l-7.72 7.72c-.78.78-.78 2.05 0 2.83L4 21.41c.39.39.9.59 1.41.59.51 0 1.02-.2 1.41-.59l7.78-7.78 2.81-2.81c.8-.78.8-2.07 0-2.86zM5.41 20L4 18.59l7.72-7.72 1.47 1.35L5.41 20z\"/>\n",
              "  </svg>\n",
              "      </button>\n",
              "      \n",
              "  <style>\n",
              "    .colab-df-container {\n",
              "      display:flex;\n",
              "      flex-wrap:wrap;\n",
              "      gap: 12px;\n",
              "    }\n",
              "\n",
              "    .colab-df-convert {\n",
              "      background-color: #E8F0FE;\n",
              "      border: none;\n",
              "      border-radius: 50%;\n",
              "      cursor: pointer;\n",
              "      display: none;\n",
              "      fill: #1967D2;\n",
              "      height: 32px;\n",
              "      padding: 0 0 0 0;\n",
              "      width: 32px;\n",
              "    }\n",
              "\n",
              "    .colab-df-convert:hover {\n",
              "      background-color: #E2EBFA;\n",
              "      box-shadow: 0px 1px 2px rgba(60, 64, 67, 0.3), 0px 1px 3px 1px rgba(60, 64, 67, 0.15);\n",
              "      fill: #174EA6;\n",
              "    }\n",
              "\n",
              "    [theme=dark] .colab-df-convert {\n",
              "      background-color: #3B4455;\n",
              "      fill: #D2E3FC;\n",
              "    }\n",
              "\n",
              "    [theme=dark] .colab-df-convert:hover {\n",
              "      background-color: #434B5C;\n",
              "      box-shadow: 0px 1px 3px 1px rgba(0, 0, 0, 0.15);\n",
              "      filter: drop-shadow(0px 1px 2px rgba(0, 0, 0, 0.3));\n",
              "      fill: #FFFFFF;\n",
              "    }\n",
              "  </style>\n",
              "\n",
              "      <script>\n",
              "        const buttonEl =\n",
              "          document.querySelector('#df-1a66aee0-cc36-49b5-854b-1239444164ed button.colab-df-convert');\n",
              "        buttonEl.style.display =\n",
              "          google.colab.kernel.accessAllowed ? 'block' : 'none';\n",
              "\n",
              "        async function convertToInteractive(key) {\n",
              "          const element = document.querySelector('#df-1a66aee0-cc36-49b5-854b-1239444164ed');\n",
              "          const dataTable =\n",
              "            await google.colab.kernel.invokeFunction('convertToInteractive',\n",
              "                                                     [key], {});\n",
              "          if (!dataTable) return;\n",
              "\n",
              "          const docLinkHtml = 'Like what you see? Visit the ' +\n",
              "            '<a target=\"_blank\" href=https://colab.research.google.com/notebooks/data_table.ipynb>data table notebook</a>'\n",
              "            + ' to learn more about interactive tables.';\n",
              "          element.innerHTML = '';\n",
              "          dataTable['output_type'] = 'display_data';\n",
              "          await google.colab.output.renderOutput(dataTable, element);\n",
              "          const docLink = document.createElement('div');\n",
              "          docLink.innerHTML = docLinkHtml;\n",
              "          element.appendChild(docLink);\n",
              "        }\n",
              "      </script>\n",
              "    </div>\n",
              "  </div>\n",
              "  "
            ]
          },
          "metadata": {},
          "execution_count": 7
        }
      ]
    },
    {
      "cell_type": "code",
      "source": [
        "# Visualização da padronização\n",
        "df2_padronizado[['Rendimento médio',\t\n",
        "                 'Área colhida',\t\n",
        "                 'Quantidade produzida',\t\n",
        "                 'Valor de produção', \n",
        "                 'Total de Contratos',\t\n",
        "                 'Estoque de crédito rural',\t\n",
        "                 'Pessoal ocupado',\t\n",
        "                 'Maquinário',\t\n",
        "                 'Temperatura',\t\n",
        "                 'Precipitação']].plot.box(figsize=(20,6))\n",
        "                 \n",
        "plt.grid(color='black', linestyle='--', linewidth=0.5, axis='y')\n",
        "plt.show()"
      ],
      "metadata": {
        "id": "5k-lzHN3fOKy",
        "colab": {
          "base_uri": "https://localhost:8080/",
          "height": 378
        },
        "outputId": "d4f502b5-de42-4f00-e62d-21a2d2ea2ccf"
      },
      "execution_count": null,
      "outputs": [
        {
          "output_type": "display_data",
          "data": {
            "text/plain": [
              "<Figure size 1440x432 with 1 Axes>"
            ],
            "image/png": "[encoded data removed]"
          },
          "metadata": {
            "needs_background": "light"
          }
        }
      ]
    },
    {
      "cell_type": "code",
      "source": [
        "# Correlação de Pearson om dados padronizados\n",
        "# Definição da variável resposta: Rendimento Médio de Soja (kg/ha)\n",
        "\n",
        "correlation = df2_padronizado.corr(method='pearson')\n",
        "mascara = np.triu(np.ones_like(correlation, dtype=bool))\n",
        "plt.figure(figsize = ((10, 7)))\n",
        "plot = sns.heatmap(correlation, \n",
        "                   mask=mascara,\n",
        "                   annot = True, \n",
        "                   fmt=\".2f\", vmax=1, center=0, vmin=-1, \n",
        "                   cbar=True, cmap='coolwarm', \n",
        "                   linewidths=.5, \n",
        "                   cbar_kws={\"shrink\": .5, 'label': 'Correlação', 'orientation': 'vertical'})\n",
        "\n",
        "plt.show()"
      ],
      "metadata": {
        "id": "q7FdAklxHptz",
        "colab": {
          "base_uri": "https://localhost:8080/",
          "height": 539
        },
        "outputId": "76e15f99-4d6b-4ee0-fb07-88776b81b4f1"
      },
      "execution_count": null,
      "outputs": [
        {
          "output_type": "display_data",
          "data": {
            "text/plain": [
              "<Figure size 720x504 with 2 Axes>"
            ],
            "image/png": "[encoded data removed]"
          },
          "metadata": {
            "needs_background": "light"
          }
        }
      ]
    },
    {
      "cell_type": "markdown",
      "source": [
        "### **MODELO DE REGRESSÃO MÚLTIPLA COM DADOS PADRONIZADOS**"
      ],
      "metadata": {
        "id": "bhSbs30O1THP"
      }
    },
    {
      "cell_type": "code",
      "source": [
        "# Separaçaõ das variáveis\n",
        "\n",
        "#Variáveis independentes\n",
        "X = df2_padronizado.drop(['Rendimento médio'],axis=1)\n",
        "\n",
        "#Variável dependentes\n",
        "y = df2_padronizado['Rendimento médio']"
      ],
      "metadata": {
        "id": "4ptIZfQynDZL"
      },
      "execution_count": null,
      "outputs": []
    },
    {
      "cell_type": "code",
      "source": [
        "# Importação do Pacote\n",
        "import statsmodels.api as sm\n",
        "\n",
        "# modelo de regressão múltipla\n",
        "modelo1 = (sm.OLS(y,sm.add_constant(X)).fit())\n",
        "modelo1.summary(title='Sumário do modelo com intercepto com todas as variáveis')"
      ],
      "metadata": {
        "id": "eQsZIBufEpbf",
        "outputId": "6591ed20-7fb3-4958-a573-a54a78fbf3ab",
        "colab": {
          "base_uri": "https://localhost:8080/",
          "height": 677
        }
      },
      "execution_count": null,
      "outputs": [
        {
          "output_type": "stream",
          "name": "stderr",
          "text": [
            "/usr/local/lib/python3.8/dist-packages/statsmodels/tsa/tsatools.py:142: FutureWarning: In a future version of pandas all arguments of concat except for the argument 'objs' will be keyword-only\n",
            "  x = pd.concat(x[::order], 1)\n"
          ]
        },
        {
          "output_type": "execute_result",
          "data": {
            "text/plain": [
              "<class 'statsmodels.iolib.summary.Summary'>\n",
              "\"\"\"\n",
              "           Sumário do modelo com intercepto com todas as variáveis            \n",
              "==============================================================================\n",
              "Dep. Variable:       Rendimento médio   R-squared:                       0.637\n",
              "Model:                            OLS   Adj. R-squared:                  0.612\n",
              "Method:                 Least Squares   F-statistic:                     25.31\n",
              "Date:                Mon, 23 Jan 2023   Prob (F-statistic):           1.20e-24\n",
              "Time:                        22:11:23   Log-Likelihood:                -127.78\n",
              "No. Observations:                 140   AIC:                             275.6\n",
              "Df Residuals:                     130   BIC:                             305.0\n",
              "Df Model:                           9                                         \n",
              "Covariance Type:            nonrobust                                         \n",
              "============================================================================================\n",
              "                               coef    std err          t      P>|t|      [0.025      0.975]\n",
              "--------------------------------------------------------------------------------------------\n",
              "const                    -3.469e-17      0.053  -6.56e-16      1.000      -0.105       0.105\n",
              "Área colhida                -3.7014      0.590     -6.269      0.000      -4.870      -2.533\n",
              "Quantidade produzida         4.7671      0.931      5.121      0.000       2.925       6.609\n",
              "Valor de produção           -1.2492      0.444     -2.815      0.006      -2.127      -0.371\n",
              "Total de Contratos          -0.0682      0.174     -0.392      0.696      -0.413       0.276\n",
              "Estoque de crédito rural    -0.1653      0.097     -1.702      0.091      -0.357       0.027\n",
              "Pessoal ocupado              0.0984      0.084      1.165      0.246      -0.069       0.265\n",
              "Maquinário                   0.5043      0.102      4.968      0.000       0.304       0.705\n",
              "Temperatura                  0.2273      0.064      3.531      0.001       0.100       0.355\n",
              "Precipitação                 0.4336      0.062      7.046      0.000       0.312       0.555\n",
              "==============================================================================\n",
              "Omnibus:                        3.050   Durbin-Watson:                   1.587\n",
              "Prob(Omnibus):                  0.218   Jarque-Bera (JB):                2.574\n",
              "Skew:                          -0.242   Prob(JB):                        0.276\n",
              "Kurtosis:                       3.454   Cond. No.                         53.5\n",
              "==============================================================================\n",
              "\n",
              "Notes:\n",
              "[1] Standard Errors assume that the covariance matrix of the errors is correctly specified.\n",
              "\"\"\""
            ],
            "text/html": [
              "<table class=\"simpletable\">\n",
              "<caption>Sumário do modelo com intercepto com todas as variáveis</caption>\n",
              "<tr>\n",
              "  <th>Dep. Variable:</th>    <td>Rendimento médio</td> <th>  R-squared:         </th> <td>   0.637</td>\n",
              "</tr>\n",
              "<tr>\n",
              "  <th>Model:</th>                   <td>OLS</td>       <th>  Adj. R-squared:    </th> <td>   0.612</td>\n",
              "</tr>\n",
              "<tr>\n",
              "  <th>Method:</th>             <td>Least Squares</td>  <th>  F-statistic:       </th> <td>   25.31</td>\n",
              "</tr>\n",
              "<tr>\n",
              "  <th>Date:</th>             <td>Mon, 23 Jan 2023</td> <th>  Prob (F-statistic):</th> <td>1.20e-24</td>\n",
              "</tr>\n",
              "<tr>\n",
              "  <th>Time:</th>                 <td>22:11:23</td>     <th>  Log-Likelihood:    </th> <td> -127.78</td>\n",
              "</tr>\n",
              "<tr>\n",
              "  <th>No. Observations:</th>      <td>   140</td>      <th>  AIC:               </th> <td>   275.6</td>\n",
              "</tr>\n",
              "<tr>\n",
              "  <th>Df Residuals:</th>          <td>   130</td>      <th>  BIC:               </th> <td>   305.0</td>\n",
              "</tr>\n",
              "<tr>\n",
              "  <th>Df Model:</th>              <td>     9</td>      <th>                     </th>     <td> </td>   \n",
              "</tr>\n",
              "<tr>\n",
              "  <th>Covariance Type:</th>      <td>nonrobust</td>    <th>                     </th>     <td> </td>   \n",
              "</tr>\n",
              "</table>\n",
              "<table class=\"simpletable\">\n",
              "<tr>\n",
              "              <td></td>                <th>coef</th>     <th>std err</th>      <th>t</th>      <th>P>|t|</th>  <th>[0.025</th>    <th>0.975]</th>  \n",
              "</tr>\n",
              "<tr>\n",
              "  <th>const</th>                    <td>-3.469e-17</td> <td>    0.053</td> <td>-6.56e-16</td> <td> 1.000</td> <td>   -0.105</td> <td>    0.105</td>\n",
              "</tr>\n",
              "<tr>\n",
              "  <th>Área colhida</th>             <td>   -3.7014</td> <td>    0.590</td> <td>   -6.269</td> <td> 0.000</td> <td>   -4.870</td> <td>   -2.533</td>\n",
              "</tr>\n",
              "<tr>\n",
              "  <th>Quantidade produzida</th>     <td>    4.7671</td> <td>    0.931</td> <td>    5.121</td> <td> 0.000</td> <td>    2.925</td> <td>    6.609</td>\n",
              "</tr>\n",
              "<tr>\n",
              "  <th>Valor de produção</th>        <td>   -1.2492</td> <td>    0.444</td> <td>   -2.815</td> <td> 0.006</td> <td>   -2.127</td> <td>   -0.371</td>\n",
              "</tr>\n",
              "<tr>\n",
              "  <th>Total de Contratos</th>       <td>   -0.0682</td> <td>    0.174</td> <td>   -0.392</td> <td> 0.696</td> <td>   -0.413</td> <td>    0.276</td>\n",
              "</tr>\n",
              "<tr>\n",
              "  <th>Estoque de crédito rural</th> <td>   -0.1653</td> <td>    0.097</td> <td>   -1.702</td> <td> 0.091</td> <td>   -0.357</td> <td>    0.027</td>\n",
              "</tr>\n",
              "<tr>\n",
              "  <th>Pessoal ocupado</th>          <td>    0.0984</td> <td>    0.084</td> <td>    1.165</td> <td> 0.246</td> <td>   -0.069</td> <td>    0.265</td>\n",
              "</tr>\n",
              "<tr>\n",
              "  <th>Maquinário</th>               <td>    0.5043</td> <td>    0.102</td> <td>    4.968</td> <td> 0.000</td> <td>    0.304</td> <td>    0.705</td>\n",
              "</tr>\n",
              "<tr>\n",
              "  <th>Temperatura</th>              <td>    0.2273</td> <td>    0.064</td> <td>    3.531</td> <td> 0.001</td> <td>    0.100</td> <td>    0.355</td>\n",
              "</tr>\n",
              "<tr>\n",
              "  <th>Precipitação</th>             <td>    0.4336</td> <td>    0.062</td> <td>    7.046</td> <td> 0.000</td> <td>    0.312</td> <td>    0.555</td>\n",
              "</tr>\n",
              "</table>\n",
              "<table class=\"simpletable\">\n",
              "<tr>\n",
              "  <th>Omnibus:</th>       <td> 3.050</td> <th>  Durbin-Watson:     </th> <td>   1.587</td>\n",
              "</tr>\n",
              "<tr>\n",
              "  <th>Prob(Omnibus):</th> <td> 0.218</td> <th>  Jarque-Bera (JB):  </th> <td>   2.574</td>\n",
              "</tr>\n",
              "<tr>\n",
              "  <th>Skew:</th>          <td>-0.242</td> <th>  Prob(JB):          </th> <td>   0.276</td>\n",
              "</tr>\n",
              "<tr>\n",
              "  <th>Kurtosis:</th>      <td> 3.454</td> <th>  Cond. No.          </th> <td>    53.5</td>\n",
              "</tr>\n",
              "</table><br/><br/>Notes:<br/>[1] Standard Errors assume that the covariance matrix of the errors is correctly specified."
            ]
          },
          "metadata": {},
          "execution_count": 11
        }
      ]
    },
    {
      "cell_type": "markdown",
      "source": [
        "**Procedimento Stepwise** "
      ],
      "metadata": {
        "id": "0dvucEYEidek"
      }
    },
    {
      "cell_type": "code",
      "source": [
        "# Separaçaõ das variáveis - Retirada da variável Total de Contratos \n",
        "\n",
        "#Variáveis independentes\n",
        "X = df2_padronizado.drop(['Rendimento médio', 'Total de Contratos'],axis=1)\n",
        "\n",
        "#Variável dependentes\n",
        "y = df2_padronizado['Rendimento médio']"
      ],
      "metadata": {
        "id": "8kkj_s2gi6ed"
      },
      "execution_count": null,
      "outputs": []
    },
    {
      "cell_type": "code",
      "source": [
        "# Importação do Pacote\n",
        "import statsmodels.api as sm\n",
        "\n",
        "# modelo de regressão múltipla\n",
        "modelo1 = (sm.OLS(y,sm.add_constant(X)).fit())\n",
        "modelo1.summary(title='Sumário do modelo com intercepto')"
      ],
      "metadata": {
        "id": "u2bsWMCojXtp",
        "outputId": "2fa3ffd3-873a-485a-834b-92c653155f82",
        "colab": {
          "base_uri": "https://localhost:8080/",
          "height": 656
        }
      },
      "execution_count": null,
      "outputs": [
        {
          "output_type": "stream",
          "name": "stderr",
          "text": [
            "/usr/local/lib/python3.8/dist-packages/statsmodels/tsa/tsatools.py:142: FutureWarning: In a future version of pandas all arguments of concat except for the argument 'objs' will be keyword-only\n",
            "  x = pd.concat(x[::order], 1)\n"
          ]
        },
        {
          "output_type": "execute_result",
          "data": {
            "text/plain": [
              "<class 'statsmodels.iolib.summary.Summary'>\n",
              "\"\"\"\n",
              "                       Sumário do modelo com intercepto                       \n",
              "==============================================================================\n",
              "Dep. Variable:       Rendimento médio   R-squared:                       0.636\n",
              "Model:                            OLS   Adj. R-squared:                  0.614\n",
              "Method:                 Least Squares   F-statistic:                     28.64\n",
              "Date:                Mon, 23 Jan 2023   Prob (F-statistic):           2.32e-25\n",
              "Time:                        22:11:23   Log-Likelihood:                -127.86\n",
              "No. Observations:                 140   AIC:                             273.7\n",
              "Df Residuals:                     131   BIC:                             300.2\n",
              "Df Model:                           8                                         \n",
              "Covariance Type:            nonrobust                                         \n",
              "============================================================================================\n",
              "                               coef    std err          t      P>|t|      [0.025      0.975]\n",
              "--------------------------------------------------------------------------------------------\n",
              "const                    -3.469e-17      0.053  -6.58e-16      1.000      -0.104       0.104\n",
              "Área colhida                -3.7542      0.573     -6.552      0.000      -4.888      -2.621\n",
              "Quantidade produzida         4.8157      0.920      5.236      0.000       2.996       6.635\n",
              "Valor de produção           -1.2817      0.434     -2.950      0.004      -2.141      -0.422\n",
              "Estoque de crédito rural    -0.1863      0.081     -2.310      0.022      -0.346      -0.027\n",
              "Pessoal ocupado              0.0934      0.083      1.123      0.264      -0.071       0.258\n",
              "Maquinário                   0.4923      0.096      5.105      0.000       0.302       0.683\n",
              "Temperatura                  0.2323      0.063      3.695      0.000       0.108       0.357\n",
              "Precipitação                 0.4382      0.060      7.284      0.000       0.319       0.557\n",
              "==============================================================================\n",
              "Omnibus:                        2.920   Durbin-Watson:                   1.595\n",
              "Prob(Omnibus):                  0.232   Jarque-Bera (JB):                2.440\n",
              "Skew:                          -0.236   Prob(JB):                        0.295\n",
              "Kurtosis:                       3.442   Cond. No.                         48.5\n",
              "==============================================================================\n",
              "\n",
              "Notes:\n",
              "[1] Standard Errors assume that the covariance matrix of the errors is correctly specified.\n",
              "\"\"\""
            ],
            "text/html": [
              "<table class=\"simpletable\">\n",
              "<caption>Sumário do modelo com intercepto</caption>\n",
              "<tr>\n",
              "  <th>Dep. Variable:</th>    <td>Rendimento médio</td> <th>  R-squared:         </th> <td>   0.636</td>\n",
              "</tr>\n",
              "<tr>\n",
              "  <th>Model:</th>                   <td>OLS</td>       <th>  Adj. R-squared:    </th> <td>   0.614</td>\n",
              "</tr>\n",
              "<tr>\n",
              "  <th>Method:</th>             <td>Least Squares</td>  <th>  F-statistic:       </th> <td>   28.64</td>\n",
              "</tr>\n",
              "<tr>\n",
              "  <th>Date:</th>             <td>Mon, 23 Jan 2023</td> <th>  Prob (F-statistic):</th> <td>2.32e-25</td>\n",
              "</tr>\n",
              "<tr>\n",
              "  <th>Time:</th>                 <td>22:11:23</td>     <th>  Log-Likelihood:    </th> <td> -127.86</td>\n",
              "</tr>\n",
              "<tr>\n",
              "  <th>No. Observations:</th>      <td>   140</td>      <th>  AIC:               </th> <td>   273.7</td>\n",
              "</tr>\n",
              "<tr>\n",
              "  <th>Df Residuals:</th>          <td>   131</td>      <th>  BIC:               </th> <td>   300.2</td>\n",
              "</tr>\n",
              "<tr>\n",
              "  <th>Df Model:</th>              <td>     8</td>      <th>                     </th>     <td> </td>   \n",
              "</tr>\n",
              "<tr>\n",
              "  <th>Covariance Type:</th>      <td>nonrobust</td>    <th>                     </th>     <td> </td>   \n",
              "</tr>\n",
              "</table>\n",
              "<table class=\"simpletable\">\n",
              "<tr>\n",
              "              <td></td>                <th>coef</th>     <th>std err</th>      <th>t</th>      <th>P>|t|</th>  <th>[0.025</th>    <th>0.975]</th>  \n",
              "</tr>\n",
              "<tr>\n",
              "  <th>const</th>                    <td>-3.469e-17</td> <td>    0.053</td> <td>-6.58e-16</td> <td> 1.000</td> <td>   -0.104</td> <td>    0.104</td>\n",
              "</tr>\n",
              "<tr>\n",
              "  <th>Área colhida</th>             <td>   -3.7542</td> <td>    0.573</td> <td>   -6.552</td> <td> 0.000</td> <td>   -4.888</td> <td>   -2.621</td>\n",
              "</tr>\n",
              "<tr>\n",
              "  <th>Quantidade produzida</th>     <td>    4.8157</td> <td>    0.920</td> <td>    5.236</td> <td> 0.000</td> <td>    2.996</td> <td>    6.635</td>\n",
              "</tr>\n",
              "<tr>\n",
              "  <th>Valor de produção</th>        <td>   -1.2817</td> <td>    0.434</td> <td>   -2.950</td> <td> 0.004</td> <td>   -2.141</td> <td>   -0.422</td>\n",
              "</tr>\n",
              "<tr>\n",
              "  <th>Estoque de crédito rural</th> <td>   -0.1863</td> <td>    0.081</td> <td>   -2.310</td> <td> 0.022</td> <td>   -0.346</td> <td>   -0.027</td>\n",
              "</tr>\n",
              "<tr>\n",
              "  <th>Pessoal ocupado</th>          <td>    0.0934</td> <td>    0.083</td> <td>    1.123</td> <td> 0.264</td> <td>   -0.071</td> <td>    0.258</td>\n",
              "</tr>\n",
              "<tr>\n",
              "  <th>Maquinário</th>               <td>    0.4923</td> <td>    0.096</td> <td>    5.105</td> <td> 0.000</td> <td>    0.302</td> <td>    0.683</td>\n",
              "</tr>\n",
              "<tr>\n",
              "  <th>Temperatura</th>              <td>    0.2323</td> <td>    0.063</td> <td>    3.695</td> <td> 0.000</td> <td>    0.108</td> <td>    0.357</td>\n",
              "</tr>\n",
              "<tr>\n",
              "  <th>Precipitação</th>             <td>    0.4382</td> <td>    0.060</td> <td>    7.284</td> <td> 0.000</td> <td>    0.319</td> <td>    0.557</td>\n",
              "</tr>\n",
              "</table>\n",
              "<table class=\"simpletable\">\n",
              "<tr>\n",
              "  <th>Omnibus:</th>       <td> 2.920</td> <th>  Durbin-Watson:     </th> <td>   1.595</td>\n",
              "</tr>\n",
              "<tr>\n",
              "  <th>Prob(Omnibus):</th> <td> 0.232</td> <th>  Jarque-Bera (JB):  </th> <td>   2.440</td>\n",
              "</tr>\n",
              "<tr>\n",
              "  <th>Skew:</th>          <td>-0.236</td> <th>  Prob(JB):          </th> <td>   0.295</td>\n",
              "</tr>\n",
              "<tr>\n",
              "  <th>Kurtosis:</th>      <td> 3.442</td> <th>  Cond. No.          </th> <td>    48.5</td>\n",
              "</tr>\n",
              "</table><br/><br/>Notes:<br/>[1] Standard Errors assume that the covariance matrix of the errors is correctly specified."
            ]
          },
          "metadata": {},
          "execution_count": 13
        }
      ]
    },
    {
      "cell_type": "code",
      "source": [
        "# Separaçaõ das variáveis - Retirada da variável Total de Contratos e Estoque de Crédito Rural\n",
        "\n",
        "#Variáveis independentes\n",
        "X = df2_padronizado.drop(['Rendimento médio', 'Total de Contratos', 'Estoque de crédito rural'],axis=1)\n",
        "\n",
        "#Variável dependentes\n",
        "y = df2_padronizado['Rendimento médio']"
      ],
      "metadata": {
        "id": "SN6adrHqjYEB"
      },
      "execution_count": null,
      "outputs": []
    },
    {
      "cell_type": "code",
      "source": [
        "# Importação do Pacote\n",
        "import statsmodels.api as sm\n",
        "\n",
        "# modelo de regressão múltipla\n",
        "modelo1 = (sm.OLS(y,sm.add_constant(X)).fit())\n",
        "modelo1.summary(title='Sumário do modelo 1 com intercepto')"
      ],
      "metadata": {
        "id": "se8od8PRjwTg",
        "outputId": "e12a15c7-e501-4b95-d3d1-28fc94acf178",
        "colab": {
          "base_uri": "https://localhost:8080/",
          "height": 634
        }
      },
      "execution_count": null,
      "outputs": [
        {
          "output_type": "stream",
          "name": "stderr",
          "text": [
            "/usr/local/lib/python3.8/dist-packages/statsmodels/tsa/tsatools.py:142: FutureWarning: In a future version of pandas all arguments of concat except for the argument 'objs' will be keyword-only\n",
            "  x = pd.concat(x[::order], 1)\n"
          ]
        },
        {
          "output_type": "execute_result",
          "data": {
            "text/plain": [
              "<class 'statsmodels.iolib.summary.Summary'>\n",
              "\"\"\"\n",
              "                      Sumário do modelo 1 com intercepto                      \n",
              "==============================================================================\n",
              "Dep. Variable:       Rendimento médio   R-squared:                       0.621\n",
              "Model:                            OLS   Adj. R-squared:                  0.601\n",
              "Method:                 Least Squares   F-statistic:                     30.95\n",
              "Date:                Mon, 23 Jan 2023   Prob (F-statistic):           5.09e-25\n",
              "Time:                        22:11:23   Log-Likelihood:                -130.66\n",
              "No. Observations:                 140   AIC:                             277.3\n",
              "Df Residuals:                     132   BIC:                             300.8\n",
              "Df Model:                           7                                         \n",
              "Covariance Type:            nonrobust                                         \n",
              "========================================================================================\n",
              "                           coef    std err          t      P>|t|      [0.025      0.975]\n",
              "----------------------------------------------------------------------------------------\n",
              "const                -3.469e-17      0.054  -6.48e-16      1.000      -0.106       0.106\n",
              "Área colhida            -3.8226      0.582     -6.573      0.000      -4.973      -2.672\n",
              "Quantidade produzida     5.0118      0.931      5.385      0.000       3.171       6.853\n",
              "Valor de produção       -1.4990      0.431     -3.477      0.001      -2.352      -0.646\n",
              "Pessoal ocupado          0.0803      0.084      0.951      0.343      -0.087       0.247\n",
              "Maquinário               0.4363      0.095      4.600      0.000       0.249       0.624\n",
              "Temperatura              0.2256      0.064      3.535      0.001       0.099       0.352\n",
              "Precipitação             0.4343      0.061      7.107      0.000       0.313       0.555\n",
              "==============================================================================\n",
              "Omnibus:                        3.419   Durbin-Watson:                   1.563\n",
              "Prob(Omnibus):                  0.181   Jarque-Bera (JB):                2.959\n",
              "Skew:                          -0.261   Prob(JB):                        0.228\n",
              "Kurtosis:                       3.484   Cond. No.                         45.5\n",
              "==============================================================================\n",
              "\n",
              "Notes:\n",
              "[1] Standard Errors assume that the covariance matrix of the errors is correctly specified.\n",
              "\"\"\""
            ],
            "text/html": [
              "<table class=\"simpletable\">\n",
              "<caption>Sumário do modelo 1 com intercepto</caption>\n",
              "<tr>\n",
              "  <th>Dep. Variable:</th>    <td>Rendimento médio</td> <th>  R-squared:         </th> <td>   0.621</td>\n",
              "</tr>\n",
              "<tr>\n",
              "  <th>Model:</th>                   <td>OLS</td>       <th>  Adj. R-squared:    </th> <td>   0.601</td>\n",
              "</tr>\n",
              "<tr>\n",
              "  <th>Method:</th>             <td>Least Squares</td>  <th>  F-statistic:       </th> <td>   30.95</td>\n",
              "</tr>\n",
              "<tr>\n",
              "  <th>Date:</th>             <td>Mon, 23 Jan 2023</td> <th>  Prob (F-statistic):</th> <td>5.09e-25</td>\n",
              "</tr>\n",
              "<tr>\n",
              "  <th>Time:</th>                 <td>22:11:23</td>     <th>  Log-Likelihood:    </th> <td> -130.66</td>\n",
              "</tr>\n",
              "<tr>\n",
              "  <th>No. Observations:</th>      <td>   140</td>      <th>  AIC:               </th> <td>   277.3</td>\n",
              "</tr>\n",
              "<tr>\n",
              "  <th>Df Residuals:</th>          <td>   132</td>      <th>  BIC:               </th> <td>   300.8</td>\n",
              "</tr>\n",
              "<tr>\n",
              "  <th>Df Model:</th>              <td>     7</td>      <th>                     </th>     <td> </td>   \n",
              "</tr>\n",
              "<tr>\n",
              "  <th>Covariance Type:</th>      <td>nonrobust</td>    <th>                     </th>     <td> </td>   \n",
              "</tr>\n",
              "</table>\n",
              "<table class=\"simpletable\">\n",
              "<tr>\n",
              "            <td></td>              <th>coef</th>     <th>std err</th>      <th>t</th>      <th>P>|t|</th>  <th>[0.025</th>    <th>0.975]</th>  \n",
              "</tr>\n",
              "<tr>\n",
              "  <th>const</th>                <td>-3.469e-17</td> <td>    0.054</td> <td>-6.48e-16</td> <td> 1.000</td> <td>   -0.106</td> <td>    0.106</td>\n",
              "</tr>\n",
              "<tr>\n",
              "  <th>Área colhida</th>         <td>   -3.8226</td> <td>    0.582</td> <td>   -6.573</td> <td> 0.000</td> <td>   -4.973</td> <td>   -2.672</td>\n",
              "</tr>\n",
              "<tr>\n",
              "  <th>Quantidade produzida</th> <td>    5.0118</td> <td>    0.931</td> <td>    5.385</td> <td> 0.000</td> <td>    3.171</td> <td>    6.853</td>\n",
              "</tr>\n",
              "<tr>\n",
              "  <th>Valor de produção</th>    <td>   -1.4990</td> <td>    0.431</td> <td>   -3.477</td> <td> 0.001</td> <td>   -2.352</td> <td>   -0.646</td>\n",
              "</tr>\n",
              "<tr>\n",
              "  <th>Pessoal ocupado</th>      <td>    0.0803</td> <td>    0.084</td> <td>    0.951</td> <td> 0.343</td> <td>   -0.087</td> <td>    0.247</td>\n",
              "</tr>\n",
              "<tr>\n",
              "  <th>Maquinário</th>           <td>    0.4363</td> <td>    0.095</td> <td>    4.600</td> <td> 0.000</td> <td>    0.249</td> <td>    0.624</td>\n",
              "</tr>\n",
              "<tr>\n",
              "  <th>Temperatura</th>          <td>    0.2256</td> <td>    0.064</td> <td>    3.535</td> <td> 0.001</td> <td>    0.099</td> <td>    0.352</td>\n",
              "</tr>\n",
              "<tr>\n",
              "  <th>Precipitação</th>         <td>    0.4343</td> <td>    0.061</td> <td>    7.107</td> <td> 0.000</td> <td>    0.313</td> <td>    0.555</td>\n",
              "</tr>\n",
              "</table>\n",
              "<table class=\"simpletable\">\n",
              "<tr>\n",
              "  <th>Omnibus:</th>       <td> 3.419</td> <th>  Durbin-Watson:     </th> <td>   1.563</td>\n",
              "</tr>\n",
              "<tr>\n",
              "  <th>Prob(Omnibus):</th> <td> 0.181</td> <th>  Jarque-Bera (JB):  </th> <td>   2.959</td>\n",
              "</tr>\n",
              "<tr>\n",
              "  <th>Skew:</th>          <td>-0.261</td> <th>  Prob(JB):          </th> <td>   0.228</td>\n",
              "</tr>\n",
              "<tr>\n",
              "  <th>Kurtosis:</th>      <td> 3.484</td> <th>  Cond. No.          </th> <td>    45.5</td>\n",
              "</tr>\n",
              "</table><br/><br/>Notes:<br/>[1] Standard Errors assume that the covariance matrix of the errors is correctly specified."
            ]
          },
          "metadata": {},
          "execution_count": 15
        }
      ]
    },
    {
      "cell_type": "code",
      "source": [
        "# Separaçaõ das variáveis - Retirada da variável Total de Contratos, Estoque de Crédito Rural e Pessoal Ocupado\n",
        "\n",
        "#Variáveis independentes\n",
        "X = df2_padronizado.drop(['Rendimento médio', 'Total de Contratos', 'Estoque de crédito rural', 'Pessoal ocupado'],axis=1)\n",
        "\n",
        "#Variável dependentes\n",
        "y = df2_padronizado['Rendimento médio']"
      ],
      "metadata": {
        "id": "Gy5MCm6xkNiL"
      },
      "execution_count": null,
      "outputs": []
    },
    {
      "cell_type": "code",
      "source": [
        "# Importação do Pacote\n",
        "import statsmodels.api as sm\n",
        "\n",
        "# modelo de regressão múltipla\n",
        "modelo1 = (sm.OLS(y,sm.add_constant(X)).fit())\n",
        "modelo1.summary(title='Sumário do modelo 2 com intercepto - Procedimento Stepwise')"
      ],
      "metadata": {
        "id": "5blWrdwlkaVj",
        "outputId": "6341a8ad-54f2-4839-b153-8d64d4fb630c",
        "colab": {
          "base_uri": "https://localhost:8080/",
          "height": 613
        }
      },
      "execution_count": null,
      "outputs": [
        {
          "output_type": "stream",
          "name": "stderr",
          "text": [
            "/usr/local/lib/python3.8/dist-packages/statsmodels/tsa/tsatools.py:142: FutureWarning: In a future version of pandas all arguments of concat except for the argument 'objs' will be keyword-only\n",
            "  x = pd.concat(x[::order], 1)\n"
          ]
        },
        {
          "output_type": "execute_result",
          "data": {
            "text/plain": [
              "<class 'statsmodels.iolib.summary.Summary'>\n",
              "\"\"\"\n",
              "          Sumário do modelo 2 com intercepto - Procedimento Stepwise          \n",
              "==============================================================================\n",
              "Dep. Variable:       Rendimento médio   R-squared:                       0.619\n",
              "Model:                            OLS   Adj. R-squared:                  0.602\n",
              "Method:                 Least Squares   F-statistic:                     35.99\n",
              "Date:                Mon, 23 Jan 2023   Prob (F-statistic):           1.26e-25\n",
              "Time:                        22:11:23   Log-Likelihood:                -131.14\n",
              "No. Observations:                 140   AIC:                             276.3\n",
              "Df Residuals:                     133   BIC:                             296.9\n",
              "Df Model:                           6                                         \n",
              "Covariance Type:            nonrobust                                         \n",
              "========================================================================================\n",
              "                           coef    std err          t      P>|t|      [0.025      0.975]\n",
              "----------------------------------------------------------------------------------------\n",
              "const                -3.469e-17      0.054  -6.48e-16      1.000      -0.106       0.106\n",
              "Área colhida            -3.7422      0.575     -6.506      0.000      -4.880      -2.604\n",
              "Quantidade produzida     4.9520      0.928      5.335      0.000       3.116       6.788\n",
              "Valor de produção       -1.4724      0.430     -3.424      0.001      -2.323      -0.622\n",
              "Maquinário               0.4560      0.093      4.928      0.000       0.273       0.639\n",
              "Temperatura              0.2269      0.064      3.557      0.001       0.101       0.353\n",
              "Precipitação             0.4341      0.061      7.105      0.000       0.313       0.555\n",
              "==============================================================================\n",
              "Omnibus:                        3.858   Durbin-Watson:                   1.541\n",
              "Prob(Omnibus):                  0.145   Jarque-Bera (JB):                3.376\n",
              "Skew:                          -0.297   Prob(JB):                        0.185\n",
              "Kurtosis:                       3.475   Cond. No.                         42.1\n",
              "==============================================================================\n",
              "\n",
              "Notes:\n",
              "[1] Standard Errors assume that the covariance matrix of the errors is correctly specified.\n",
              "\"\"\""
            ],
            "text/html": [
              "<table class=\"simpletable\">\n",
              "<caption>Sumário do modelo 2 com intercepto - Procedimento Stepwise</caption>\n",
              "<tr>\n",
              "  <th>Dep. Variable:</th>    <td>Rendimento médio</td> <th>  R-squared:         </th> <td>   0.619</td>\n",
              "</tr>\n",
              "<tr>\n",
              "  <th>Model:</th>                   <td>OLS</td>       <th>  Adj. R-squared:    </th> <td>   0.602</td>\n",
              "</tr>\n",
              "<tr>\n",
              "  <th>Method:</th>             <td>Least Squares</td>  <th>  F-statistic:       </th> <td>   35.99</td>\n",
              "</tr>\n",
              "<tr>\n",
              "  <th>Date:</th>             <td>Mon, 23 Jan 2023</td> <th>  Prob (F-statistic):</th> <td>1.26e-25</td>\n",
              "</tr>\n",
              "<tr>\n",
              "  <th>Time:</th>                 <td>22:11:23</td>     <th>  Log-Likelihood:    </th> <td> -131.14</td>\n",
              "</tr>\n",
              "<tr>\n",
              "  <th>No. Observations:</th>      <td>   140</td>      <th>  AIC:               </th> <td>   276.3</td>\n",
              "</tr>\n",
              "<tr>\n",
              "  <th>Df Residuals:</th>          <td>   133</td>      <th>  BIC:               </th> <td>   296.9</td>\n",
              "</tr>\n",
              "<tr>\n",
              "  <th>Df Model:</th>              <td>     6</td>      <th>                     </th>     <td> </td>   \n",
              "</tr>\n",
              "<tr>\n",
              "  <th>Covariance Type:</th>      <td>nonrobust</td>    <th>                     </th>     <td> </td>   \n",
              "</tr>\n",
              "</table>\n",
              "<table class=\"simpletable\">\n",
              "<tr>\n",
              "            <td></td>              <th>coef</th>     <th>std err</th>      <th>t</th>      <th>P>|t|</th>  <th>[0.025</th>    <th>0.975]</th>  \n",
              "</tr>\n",
              "<tr>\n",
              "  <th>const</th>                <td>-3.469e-17</td> <td>    0.054</td> <td>-6.48e-16</td> <td> 1.000</td> <td>   -0.106</td> <td>    0.106</td>\n",
              "</tr>\n",
              "<tr>\n",
              "  <th>Área colhida</th>         <td>   -3.7422</td> <td>    0.575</td> <td>   -6.506</td> <td> 0.000</td> <td>   -4.880</td> <td>   -2.604</td>\n",
              "</tr>\n",
              "<tr>\n",
              "  <th>Quantidade produzida</th> <td>    4.9520</td> <td>    0.928</td> <td>    5.335</td> <td> 0.000</td> <td>    3.116</td> <td>    6.788</td>\n",
              "</tr>\n",
              "<tr>\n",
              "  <th>Valor de produção</th>    <td>   -1.4724</td> <td>    0.430</td> <td>   -3.424</td> <td> 0.001</td> <td>   -2.323</td> <td>   -0.622</td>\n",
              "</tr>\n",
              "<tr>\n",
              "  <th>Maquinário</th>           <td>    0.4560</td> <td>    0.093</td> <td>    4.928</td> <td> 0.000</td> <td>    0.273</td> <td>    0.639</td>\n",
              "</tr>\n",
              "<tr>\n",
              "  <th>Temperatura</th>          <td>    0.2269</td> <td>    0.064</td> <td>    3.557</td> <td> 0.001</td> <td>    0.101</td> <td>    0.353</td>\n",
              "</tr>\n",
              "<tr>\n",
              "  <th>Precipitação</th>         <td>    0.4341</td> <td>    0.061</td> <td>    7.105</td> <td> 0.000</td> <td>    0.313</td> <td>    0.555</td>\n",
              "</tr>\n",
              "</table>\n",
              "<table class=\"simpletable\">\n",
              "<tr>\n",
              "  <th>Omnibus:</th>       <td> 3.858</td> <th>  Durbin-Watson:     </th> <td>   1.541</td>\n",
              "</tr>\n",
              "<tr>\n",
              "  <th>Prob(Omnibus):</th> <td> 0.145</td> <th>  Jarque-Bera (JB):  </th> <td>   3.376</td>\n",
              "</tr>\n",
              "<tr>\n",
              "  <th>Skew:</th>          <td>-0.297</td> <th>  Prob(JB):          </th> <td>   0.185</td>\n",
              "</tr>\n",
              "<tr>\n",
              "  <th>Kurtosis:</th>      <td> 3.475</td> <th>  Cond. No.          </th> <td>    42.1</td>\n",
              "</tr>\n",
              "</table><br/><br/>Notes:<br/>[1] Standard Errors assume that the covariance matrix of the errors is correctly specified."
            ]
          },
          "metadata": {},
          "execution_count": 17
        }
      ]
    },
    {
      "cell_type": "markdown",
      "source": [
        "### **DIAGNÓSTICO DO MODELO DE REGRESSÃO MÚLTIPLA**"
      ],
      "metadata": {
        "id": "2QSAiouM3Iap"
      }
    },
    {
      "cell_type": "markdown",
      "source": [
        "Pressupostos\n",
        "*   Normalidade dos resíduos\n",
        "*   Inexistência de Multicolinearidade\n",
        "*   Ausência de Heterocedasticidade\n",
        "*   Autocorrelação dos resíduos\n",
        "\n",
        "Especificação do modelo e omissão de variáveis\n",
        "*   Teste White\n",
        "\n",
        "Outliers\n",
        "*   Análise de Influência"
      ],
      "metadata": {
        "id": "1dBxLSsosOkJ"
      }
    },
    {
      "cell_type": "markdown",
      "source": [
        "**Primeiro pressuposto: Normalidade dos resíduos** \n",
        "*Assegura que que os valores p dos testes t e F são válidos.*"
      ],
      "metadata": {
        "id": "rUZe4bA7iZte"
      }
    },
    {
      "cell_type": "code",
      "source": [
        "residuos1 = modelo1.resid"
      ],
      "metadata": {
        "id": "BLoLPo8Em5e6"
      },
      "execution_count": null,
      "outputs": []
    },
    {
      "cell_type": "code",
      "source": [
        "# Teste se os resíduos diferem de uma distribuição normal\n",
        "# Teste Omnibus de normalidade.\n",
        "# Essa função testa a hipótese nula de que uma amostra vem de uma distribuição normal. \n",
        "# É baseado no teste de D'Agostino e Pearson que combina skew e kurtosis para produzir um teste omnibus de normalidade.\n",
        "\n",
        "from scipy.stats import normaltest\n",
        "normaltest(residuos1)"
      ],
      "metadata": {
        "id": "_F7lfb46v4Wg",
        "outputId": "38755043-d6a2-4634-dfed-a31e315ae749",
        "colab": {
          "base_uri": "https://localhost:8080/"
        }
      },
      "execution_count": null,
      "outputs": [
        {
          "output_type": "execute_result",
          "data": {
            "text/plain": [
              "NormaltestResult(statistic=3.858029766712865, pvalue=0.1452912568427498)"
            ]
          },
          "metadata": {},
          "execution_count": 19
        }
      ]
    },
    {
      "cell_type": "code",
      "source": [
        "# Avaliação de rejeição ou não rejeição\n",
        "\n",
        "alpha = 0.05\n",
        "k2, p = normaltest(residuos1)\n",
        "\n",
        "# Hipotese nula: Os dados seguem distribuição normal\n",
        "# Hipotese alternativa: Os dados não seguem distribuição normal\n",
        "\n",
        "if p < alpha:\n",
        "    print(\"A Hipótese Nula pode ser rejeitada\")\n",
        "else:\n",
        "    print(\"A hipótese nula não pode ser rejeitada\")"
      ],
      "metadata": {
        "id": "vr0w5df4zBwp",
        "outputId": "a29b75da-1660-463b-f4af-b4511e44e8f9",
        "colab": {
          "base_uri": "https://localhost:8080/"
        }
      },
      "execution_count": null,
      "outputs": [
        {
          "output_type": "stream",
          "name": "stdout",
          "text": [
            "A hipótese nula não pode ser rejeitada\n"
          ]
        }
      ]
    },
    {
      "cell_type": "code",
      "source": [
        "# A estatística de teste Jarque-Bera testa o nulo de que os dados são normalmente distribuídos contra uma alternativa de que os dados seguem alguma outra distribuição. \n",
        "# É um teste de adequação para verificar se os dados da amostra tem assimetria e curtose correspondente a distribuição normal.\n",
        "\n",
        "from scipy.stats import kurtosis\n",
        "import statsmodels.stats.api as sms\n",
        "from statsmodels.compat import lzip\n",
        "\n",
        "name = ['Jarque-Bera', 'p-value', 'Skew', 'Kurtosis']\n",
        "test = sms.jarque_bera(residuos1)\n",
        "print(dict(zip(name, test)))"
      ],
      "metadata": {
        "id": "yq9_ITKV0jYz",
        "outputId": "8a99a6db-e5c7-48f8-b25f-002dac1f9ab9",
        "colab": {
          "base_uri": "https://localhost:8080/"
        }
      },
      "execution_count": null,
      "outputs": [
        {
          "output_type": "stream",
          "name": "stdout",
          "text": [
            "{'Jarque-Bera': 3.3762781819768155, 'p-value': 0.1848632177302052, 'Skew': -0.29705952183233997, 'Kurtosis': 3.475197966574675}\n"
          ]
        }
      ]
    },
    {
      "cell_type": "markdown",
      "source": [
        "**Segundo pressuposto: inexistência de multicolinearidade** "
      ],
      "metadata": {
        "id": "1bPXc8nF0bXe"
      }
    },
    {
      "cell_type": "code",
      "source": [
        "df2_padronizado.info()"
      ],
      "metadata": {
        "id": "n1utWCYe43Us",
        "outputId": "01654b60-ab4e-4074-bfc1-acb4db1f482e",
        "colab": {
          "base_uri": "https://localhost:8080/"
        }
      },
      "execution_count": null,
      "outputs": [
        {
          "output_type": "stream",
          "name": "stdout",
          "text": [
            "<class 'pandas.core.frame.DataFrame'>\n",
            "RangeIndex: 140 entries, 0 to 139\n",
            "Data columns (total 10 columns):\n",
            " #   Column                    Non-Null Count  Dtype  \n",
            "---  ------                    --------------  -----  \n",
            " 0   Rendimento médio          140 non-null    float64\n",
            " 1   Área colhida              140 non-null    float64\n",
            " 2   Quantidade produzida      140 non-null    float64\n",
            " 3   Valor de produção         140 non-null    float64\n",
            " 4   Total de Contratos        140 non-null    float64\n",
            " 5   Estoque de crédito rural  140 non-null    float64\n",
            " 6   Pessoal ocupado           140 non-null    float64\n",
            " 7   Maquinário                140 non-null    float64\n",
            " 8   Temperatura               140 non-null    float64\n",
            " 9   Precipitação              140 non-null    float64\n",
            "dtypes: float64(10)\n",
            "memory usage: 11.1 KB\n"
          ]
        }
      ]
    },
    {
      "cell_type": "code",
      "source": [
        "# Retirada de variáveis do modelo final\n",
        "modelo_teste = df2_padronizado.drop(['Rendimento médio', 'Total de Contratos', 'Estoque de crédito rural', 'Pessoal ocupado'],axis=1)\n",
        "modelo_teste.info()"
      ],
      "metadata": {
        "id": "I8fbPiXX5IOA",
        "outputId": "ac7131a2-4d71-4a9e-9688-3bbdf7ebc27e",
        "colab": {
          "base_uri": "https://localhost:8080/"
        }
      },
      "execution_count": null,
      "outputs": [
        {
          "output_type": "stream",
          "name": "stdout",
          "text": [
            "<class 'pandas.core.frame.DataFrame'>\n",
            "RangeIndex: 140 entries, 0 to 139\n",
            "Data columns (total 6 columns):\n",
            " #   Column                Non-Null Count  Dtype  \n",
            "---  ------                --------------  -----  \n",
            " 0   Área colhida          140 non-null    float64\n",
            " 1   Quantidade produzida  140 non-null    float64\n",
            " 2   Valor de produção     140 non-null    float64\n",
            " 3   Maquinário            140 non-null    float64\n",
            " 4   Temperatura           140 non-null    float64\n",
            " 5   Precipitação          140 non-null    float64\n",
            "dtypes: float64(6)\n",
            "memory usage: 6.7 KB\n"
          ]
        }
      ]
    },
    {
      "cell_type": "code",
      "source": [
        "# Correlação de Pearson com dados padronizados após procedimento Stepwise\n",
        "\n",
        "correlation = modelo_teste.corr(method='pearson')\n",
        "mascara = np.triu(np.ones_like(correlation, dtype=bool))\n",
        "plt.figure(figsize = ((8, 5)))\n",
        "plot = sns.heatmap(correlation, \n",
        "                   mask=mascara,\n",
        "                   annot = True, \n",
        "                   fmt=\".2f\", vmax=1, center=0, vmin=-1, \n",
        "                   cbar=True, cmap='coolwarm', \n",
        "                   linewidths=.5, \n",
        "                   cbar_kws={\"shrink\": .5, 'label': 'Correlação', 'orientation': 'vertical'})\n",
        "\n",
        "plt.show()"
      ],
      "metadata": {
        "id": "HdRB2LK1dnHz",
        "colab": {
          "base_uri": "https://localhost:8080/",
          "height": 421
        },
        "outputId": "d9de0f6d-285f-482f-9fb2-f168e25a1adc"
      },
      "execution_count": null,
      "outputs": [
        {
          "output_type": "display_data",
          "data": {
            "text/plain": [
              "<Figure size 576x360 with 2 Axes>"
            ],
            "image/png": "[encoded data removed]"
          },
          "metadata": {
            "needs_background": "light"
          }
        }
      ]
    },
    {
      "cell_type": "code",
      "source": [
        "# Primeira rodagem: Estatística VIF (Variance Inflation Factor)\n",
        "\n",
        "from statsmodels.stats.outliers_influence import variance_inflation_factor\n",
        "  \n",
        "# the independent variables set\n",
        "X = modelo_teste[['Área colhida', 'Quantidade produzida', 'Valor de produção', 'Maquinário', 'Temperatura','Precipitação']]\n",
        "\n",
        "# VIF dataframe\n",
        "vif_data = pd.DataFrame()\n",
        "vif_data[\"Variáveis\"] = X.columns\n",
        "  \n",
        "# calculating VIF for each feature\n",
        "vif_data[\"VIF\"] = [variance_inflation_factor(X.values, i) for i in range(len(X.columns))]\n",
        "  \n",
        "print(vif_data)"
      ],
      "metadata": {
        "id": "dS_5ZLt8dnQ1",
        "outputId": "d095e060-230a-4be9-db90-10550f9e5b6d",
        "colab": {
          "base_uri": "https://localhost:8080/"
        }
      },
      "execution_count": null,
      "outputs": [
        {
          "output_type": "stream",
          "name": "stdout",
          "text": [
            "              Variáveis         VIF\n",
            "0          Área colhida  115.439544\n",
            "1  Quantidade produzida  300.627870\n",
            "2     Valor de produção   64.512727\n",
            "3            Maquinário    2.987221\n",
            "4           Temperatura    1.419856\n",
            "5          Precipitação    1.302399\n"
          ]
        }
      ]
    },
    {
      "cell_type": "code",
      "source": [
        "# Segunda rodagem: Estatística VIF (Variance Inflation Factor)\n",
        "\n",
        "from statsmodels.stats.outliers_influence import variance_inflation_factor\n",
        "  \n",
        "# the independent variables set\n",
        "X = modelo_teste[['Área colhida', 'Valor de produção', 'Maquinário', 'Temperatura','Precipitação']]\n",
        "\n",
        "# VIF dataframe\n",
        "vif_data = pd.DataFrame()\n",
        "vif_data[\"Variáveis\"] = X.columns\n",
        "  \n",
        "# calculating VIF for each feature\n",
        "vif_data[\"VIF\"] = [variance_inflation_factor(X.values, i) for i in range(len(X.columns))]\n",
        "  \n",
        "print(vif_data)"
      ],
      "metadata": {
        "id": "JcBwXeEe0uKF",
        "outputId": "2fbf2e70-5db5-4c9e-9511-e5548ddd010b",
        "colab": {
          "base_uri": "https://localhost:8080/"
        }
      },
      "execution_count": null,
      "outputs": [
        {
          "output_type": "stream",
          "name": "stdout",
          "text": [
            "           Variáveis       VIF\n",
            "0       Área colhida  6.704853\n",
            "1  Valor de produção  4.280755\n",
            "2         Maquinário  2.932204\n",
            "3        Temperatura  1.321195\n",
            "4       Precipitação  1.298585\n"
          ]
        }
      ]
    },
    {
      "cell_type": "markdown",
      "source": [
        "**Terceiro pressuposto: Homocedasticidade** "
      ],
      "metadata": {
        "id": "qUkTP8XyAKTX"
      }
    },
    {
      "cell_type": "code",
      "source": [
        "residuos1 = modelo1.resid"
      ],
      "metadata": {
        "id": "q4zH3ArEFX8o"
      },
      "execution_count": null,
      "outputs": []
    },
    {
      "cell_type": "code",
      "source": [
        "from scipy import stats\n",
        "import statsmodels.stats.api as sms\n",
        "from statsmodels.compat import lzip\n",
        "from statsmodels.stats.diagnostic import het_breuschpagan, het_white\n",
        "\n",
        "# Teste Breush-Pagan\n",
        "nomes = ['Estatística Multiplicador de Lagrange','p-valor','Estatística F','f p-valor']\n",
        "for i,j in zip(nomes,het_breuschpagan(modelo1.resid, modelo1.model.exog)):\n",
        "    print(i,':',j)"
      ],
      "metadata": {
        "id": "S8kyydOAEV0F",
        "outputId": "b91507ac-0a4e-4394-da43-c2c71cc99efc",
        "colab": {
          "base_uri": "https://localhost:8080/"
        }
      },
      "execution_count": null,
      "outputs": [
        {
          "output_type": "stream",
          "name": "stdout",
          "text": [
            "Estatística Multiplicador de Lagrange : 5.195553118129053\n",
            "p-valor : 0.5189879020768007\n",
            "Estatística F : 0.8543345325948256\n",
            "f p-valor : 0.530454604564776\n"
          ]
        }
      ]
    },
    {
      "cell_type": "markdown",
      "source": [
        "**Quarto pressuposto: Autocorrelação dos resíduos:** como o banco de dados é uma cross-section, não será avaliado o pressuposto de autocorrelação dos resíduos."
      ],
      "metadata": {
        "id": "uhCVZv1uWzBx"
      }
    },
    {
      "cell_type": "markdown",
      "source": [
        "**Teste de Especificação de White** \n",
        "\n",
        "*   𝐻0: O modelo é homocedástico e está bem especificado\n",
        "*   𝐻1: O modelo não é homocedástico e não está bem especificado"
      ],
      "metadata": {
        "id": "fZ5_nud4dgkl"
      }
    },
    {
      "cell_type": "code",
      "source": [
        "from statsmodels.stats.diagnostic import spec_white\n",
        "nome = ['Estatística do teste', 'p-valor','Graus de liberdade']\n",
        "lzip(nome,spec_white(modelo1.resid, modelo1.model.exog))"
      ],
      "metadata": {
        "id": "otb13ikydHBc",
        "outputId": "954928fa-c6c0-449b-d351-95827fecdd71",
        "colab": {
          "base_uri": "https://localhost:8080/"
        }
      },
      "execution_count": null,
      "outputs": [
        {
          "output_type": "execute_result",
          "data": {
            "text/plain": [
              "[('Estatística do teste', 31.004651781699586),\n",
              " ('p-valor', 0.2709476413466895),\n",
              " ('Graus de liberdade', 27)]"
            ]
          },
          "metadata": {},
          "execution_count": 29
        }
      ]
    },
    {
      "cell_type": "code",
      "source": [
        "# Abertura de pacotes especificos\n",
        "from statsmodels.graphics.regressionplots import plot_leverage_resid2\n",
        "from statsmodels.stats.outliers_influence import OLSInfluence"
      ],
      "metadata": {
        "id": "j5pO1tbzuHq7"
      },
      "execution_count": null,
      "outputs": []
    },
    {
      "cell_type": "markdown",
      "source": [
        "**Análise de influência** "
      ],
      "metadata": {
        "id": "RMUTRqyAuxIh"
      }
    },
    {
      "cell_type": "code",
      "source": [
        "# Análise de pontos de alavanca: observações cujo os regressores apresentam padrão atípico.\n",
        "# Traçar estatísticas de alavancagem versus resíduos normalizados ao quadrado\n",
        "fig, ax = plt.subplots(figsize=(8, 6))\n",
        "plot_leverage_resid2(modelo1, ax=ax)\n",
        "plt.show()"
      ],
      "metadata": {
        "id": "3tNVDA6lm5rC",
        "colab": {
          "base_uri": "https://localhost:8080/",
          "height": 404
        },
        "outputId": "c7f6e068-d418-4788-d623-9efc8b10effa"
      },
      "execution_count": null,
      "outputs": [
        {
          "output_type": "display_data",
          "data": {
            "text/plain": [
              "<Figure size 576x432 with 1 Axes>"
            ],
            "image/png": "[encoded data removed]"
          },
          "metadata": {
            "needs_background": "light"
          }
        }
      ]
    },
    {
      "cell_type": "markdown",
      "source": [
        "**Gráficos complementares** "
      ],
      "metadata": {
        "id": "nUCJbfDrr6cx"
      }
    },
    {
      "cell_type": "code",
      "source": [
        "from statsmodels.graphics.gofplots import qqplot\n",
        "from statsmodels.graphics.tsaplots import plot_acf"
      ],
      "metadata": {
        "id": "YBzeE5u633Xz"
      },
      "execution_count": null,
      "outputs": []
    },
    {
      "cell_type": "code",
      "source": [
        "residuos1 = modelo1.resid\n",
        "\n",
        "fig, ax = plt.subplots(2,2,figsize=(15,6))\n",
        "\n",
        "residuos1.plot(title=\"Resíduos do modelo 1\", ax=ax[0][0])\n",
        "sns.distplot(residuos1,ax=ax[0][1])\n",
        "plot_acf(residuos1,lags=40, ax=ax[1][0])\n",
        "qqplot(residuos1,line='s', ax=ax[1][1]);\n",
        "\n",
        "plt.show()"
      ],
      "metadata": {
        "id": "FBPHHW2q3Hsf",
        "outputId": "bbff0c23-19c3-48fd-93a7-dfb6121da456",
        "colab": {
          "base_uri": "https://localhost:8080/",
          "height": 459
        }
      },
      "execution_count": null,
      "outputs": [
        {
          "output_type": "stream",
          "name": "stderr",
          "text": [
            "/usr/local/lib/python3.8/dist-packages/seaborn/distributions.py:2619: FutureWarning: `distplot` is a deprecated function and will be removed in a future version. Please adapt your code to use either `displot` (a figure-level function with similar flexibility) or `histplot` (an axes-level function for histograms).\n",
            "  warnings.warn(msg, FutureWarning)\n"
          ]
        },
        {
          "output_type": "display_data",
          "data": {
            "text/plain": [
              "<Figure size 1080x432 with 4 Axes>"
            ],
            "image/png": "[encoded data removed]"
          },
          "metadata": {
            "needs_background": "light"
          }
        }
      ]
    },
    {
      "cell_type": "markdown",
      "source": [
        "### **MODELO DE PRODUTIVIDADE (RENDIMENTO) DA SOJICULTURA NO MS SEM OUTLIERS COM DADOS PADRONIZADOS E NÃO PADRONIZADOS**"
      ],
      "metadata": {
        "id": "tvfhZta4_yzk"
      }
    },
    {
      "cell_type": "markdown",
      "source": [
        "**Modelo com dados padronizados** "
      ],
      "metadata": {
        "id": "oaygCY-y-mIm"
      }
    },
    {
      "cell_type": "code",
      "source": [
        "# Base de dados\n",
        "df_so = df2_padronizado.drop(['Quantidade produzida', \n",
        "                              'Total de Contratos', \n",
        "                              'Estoque de crédito rural', \n",
        "                              'Pessoal ocupado'],axis=1)"
      ],
      "metadata": {
        "id": "UG7ooioG_5Ys"
      },
      "execution_count": null,
      "outputs": []
    },
    {
      "cell_type": "code",
      "source": [
        "# Retirando os outliers de moderados e extremos\n",
        "from scipy import stats\n",
        "df_so = df_so[(np.abs(stats.zscore(df_so)) < 1.5).all(axis=1)]"
      ],
      "metadata": {
        "id": "NUeRND0w_3ha"
      },
      "execution_count": null,
      "outputs": []
    },
    {
      "cell_type": "code",
      "source": [
        "# Informação do novo banco de dados\n",
        "df_so.info()"
      ],
      "metadata": {
        "id": "sLYoxg0JBcrR",
        "outputId": "9f55b7e5-fe5b-47fd-f9f8-df9f9eee7d6c",
        "colab": {
          "base_uri": "https://localhost:8080/"
        }
      },
      "execution_count": null,
      "outputs": [
        {
          "output_type": "stream",
          "name": "stdout",
          "text": [
            "<class 'pandas.core.frame.DataFrame'>\n",
            "Int64Index: 80 entries, 0 to 139\n",
            "Data columns (total 6 columns):\n",
            " #   Column             Non-Null Count  Dtype  \n",
            "---  ------             --------------  -----  \n",
            " 0   Rendimento médio   80 non-null     float64\n",
            " 1   Área colhida       80 non-null     float64\n",
            " 2   Valor de produção  80 non-null     float64\n",
            " 3   Maquinário         80 non-null     float64\n",
            " 4   Temperatura        80 non-null     float64\n",
            " 5   Precipitação       80 non-null     float64\n",
            "dtypes: float64(6)\n",
            "memory usage: 4.4 KB\n"
          ]
        }
      ]
    },
    {
      "cell_type": "code",
      "source": [
        "# Separaçaõ das variáveis\n",
        "\n",
        "#Variáveis independentes\n",
        "X = df_so.drop(['Rendimento médio'],axis=1)\n",
        "\n",
        "#Variável dependentes\n",
        "y = df_so['Rendimento médio']"
      ],
      "metadata": {
        "id": "bNB1Dlf6CK80"
      },
      "execution_count": null,
      "outputs": []
    },
    {
      "cell_type": "code",
      "source": [
        "# Importação do Pacote\n",
        "import statsmodels.api as sm\n",
        "\n",
        "# modelo de regressão múltipla\n",
        "modelo_FINAL_so = (sm.OLS(y,sm.add_constant(X)).fit())\n",
        "modelo_FINAL_so.summary(title='Sumário do modelo FINAL com intercepto sem outliers (m-e)')"
      ],
      "metadata": {
        "id": "lJ4VmNrkCaqJ",
        "outputId": "3534b495-854d-44fc-db3a-2d7797ca0a57",
        "colab": {
          "base_uri": "https://localhost:8080/",
          "height": 592
        }
      },
      "execution_count": null,
      "outputs": [
        {
          "output_type": "stream",
          "name": "stderr",
          "text": [
            "/usr/local/lib/python3.8/dist-packages/statsmodels/tsa/tsatools.py:142: FutureWarning: In a future version of pandas all arguments of concat except for the argument 'objs' will be keyword-only\n",
            "  x = pd.concat(x[::order], 1)\n"
          ]
        },
        {
          "output_type": "execute_result",
          "data": {
            "text/plain": [
              "<class 'statsmodels.iolib.summary.Summary'>\n",
              "\"\"\"\n",
              "          Sumário do modelo FINAL com intercepto sem outliers (m-e)           \n",
              "==============================================================================\n",
              "Dep. Variable:       Rendimento médio   R-squared:                       0.676\n",
              "Model:                            OLS   Adj. R-squared:                  0.654\n",
              "Method:                 Least Squares   F-statistic:                     30.86\n",
              "Date:                Mon, 23 Jan 2023   Prob (F-statistic):           7.95e-17\n",
              "Time:                        22:11:25   Log-Likelihood:                -48.684\n",
              "No. Observations:                  80   AIC:                             109.4\n",
              "Df Residuals:                      74   BIC:                             123.7\n",
              "Df Model:                           5                                         \n",
              "Covariance Type:            nonrobust                                         \n",
              "=====================================================================================\n",
              "                        coef    std err          t      P>|t|      [0.025      0.975]\n",
              "-------------------------------------------------------------------------------------\n",
              "const                 0.3000      0.059      5.118      0.000       0.183       0.417\n",
              "Área colhida         -1.2319      0.179     -6.897      0.000      -1.588      -0.876\n",
              "Valor de produção     1.1874      0.207      5.728      0.000       0.774       1.600\n",
              "Maquinário            0.7612      0.145      5.253      0.000       0.472       1.050\n",
              "Temperatura           0.2781      0.073      3.807      0.000       0.133       0.424\n",
              "Precipitação          0.3118      0.072      4.351      0.000       0.169       0.455\n",
              "==============================================================================\n",
              "Omnibus:                        0.834   Durbin-Watson:                   1.816\n",
              "Prob(Omnibus):                  0.659   Jarque-Bera (JB):                0.885\n",
              "Skew:                           0.110   Prob(JB):                        0.642\n",
              "Kurtosis:                       2.534   Cond. No.                         5.51\n",
              "==============================================================================\n",
              "\n",
              "Notes:\n",
              "[1] Standard Errors assume that the covariance matrix of the errors is correctly specified.\n",
              "\"\"\""
            ],
            "text/html": [
              "<table class=\"simpletable\">\n",
              "<caption>Sumário do modelo FINAL com intercepto sem outliers (m-e)</caption>\n",
              "<tr>\n",
              "  <th>Dep. Variable:</th>    <td>Rendimento médio</td> <th>  R-squared:         </th> <td>   0.676</td>\n",
              "</tr>\n",
              "<tr>\n",
              "  <th>Model:</th>                   <td>OLS</td>       <th>  Adj. R-squared:    </th> <td>   0.654</td>\n",
              "</tr>\n",
              "<tr>\n",
              "  <th>Method:</th>             <td>Least Squares</td>  <th>  F-statistic:       </th> <td>   30.86</td>\n",
              "</tr>\n",
              "<tr>\n",
              "  <th>Date:</th>             <td>Mon, 23 Jan 2023</td> <th>  Prob (F-statistic):</th> <td>7.95e-17</td>\n",
              "</tr>\n",
              "<tr>\n",
              "  <th>Time:</th>                 <td>22:11:25</td>     <th>  Log-Likelihood:    </th> <td> -48.684</td>\n",
              "</tr>\n",
              "<tr>\n",
              "  <th>No. Observations:</th>      <td>    80</td>      <th>  AIC:               </th> <td>   109.4</td>\n",
              "</tr>\n",
              "<tr>\n",
              "  <th>Df Residuals:</th>          <td>    74</td>      <th>  BIC:               </th> <td>   123.7</td>\n",
              "</tr>\n",
              "<tr>\n",
              "  <th>Df Model:</th>              <td>     5</td>      <th>                     </th>     <td> </td>   \n",
              "</tr>\n",
              "<tr>\n",
              "  <th>Covariance Type:</th>      <td>nonrobust</td>    <th>                     </th>     <td> </td>   \n",
              "</tr>\n",
              "</table>\n",
              "<table class=\"simpletable\">\n",
              "<tr>\n",
              "          <td></td>             <th>coef</th>     <th>std err</th>      <th>t</th>      <th>P>|t|</th>  <th>[0.025</th>    <th>0.975]</th>  \n",
              "</tr>\n",
              "<tr>\n",
              "  <th>const</th>             <td>    0.3000</td> <td>    0.059</td> <td>    5.118</td> <td> 0.000</td> <td>    0.183</td> <td>    0.417</td>\n",
              "</tr>\n",
              "<tr>\n",
              "  <th>Área colhida</th>      <td>   -1.2319</td> <td>    0.179</td> <td>   -6.897</td> <td> 0.000</td> <td>   -1.588</td> <td>   -0.876</td>\n",
              "</tr>\n",
              "<tr>\n",
              "  <th>Valor de produção</th> <td>    1.1874</td> <td>    0.207</td> <td>    5.728</td> <td> 0.000</td> <td>    0.774</td> <td>    1.600</td>\n",
              "</tr>\n",
              "<tr>\n",
              "  <th>Maquinário</th>        <td>    0.7612</td> <td>    0.145</td> <td>    5.253</td> <td> 0.000</td> <td>    0.472</td> <td>    1.050</td>\n",
              "</tr>\n",
              "<tr>\n",
              "  <th>Temperatura</th>       <td>    0.2781</td> <td>    0.073</td> <td>    3.807</td> <td> 0.000</td> <td>    0.133</td> <td>    0.424</td>\n",
              "</tr>\n",
              "<tr>\n",
              "  <th>Precipitação</th>      <td>    0.3118</td> <td>    0.072</td> <td>    4.351</td> <td> 0.000</td> <td>    0.169</td> <td>    0.455</td>\n",
              "</tr>\n",
              "</table>\n",
              "<table class=\"simpletable\">\n",
              "<tr>\n",
              "  <th>Omnibus:</th>       <td> 0.834</td> <th>  Durbin-Watson:     </th> <td>   1.816</td>\n",
              "</tr>\n",
              "<tr>\n",
              "  <th>Prob(Omnibus):</th> <td> 0.659</td> <th>  Jarque-Bera (JB):  </th> <td>   0.885</td>\n",
              "</tr>\n",
              "<tr>\n",
              "  <th>Skew:</th>          <td> 0.110</td> <th>  Prob(JB):          </th> <td>   0.642</td>\n",
              "</tr>\n",
              "<tr>\n",
              "  <th>Kurtosis:</th>      <td> 2.534</td> <th>  Cond. No.          </th> <td>    5.51</td>\n",
              "</tr>\n",
              "</table><br/><br/>Notes:<br/>[1] Standard Errors assume that the covariance matrix of the errors is correctly specified."
            ]
          },
          "metadata": {},
          "execution_count": 41
        }
      ]
    },
    {
      "cell_type": "markdown",
      "source": [
        "**Modelo com dados sem padronização** "
      ],
      "metadata": {
        "id": "6P940USo-gz0"
      }
    },
    {
      "cell_type": "code",
      "source": [
        "df2.info()"
      ],
      "metadata": {
        "colab": {
          "base_uri": "https://localhost:8080/"
        },
        "id": "-vO_TzEKrFO2",
        "outputId": "880b1029-3780-40cf-d486-5b8a684c6ecb"
      },
      "execution_count": null,
      "outputs": [
        {
          "output_type": "stream",
          "name": "stdout",
          "text": [
            "<class 'pandas.core.frame.DataFrame'>\n",
            "RangeIndex: 140 entries, 0 to 139\n",
            "Data columns (total 10 columns):\n",
            " #   Column                             Non-Null Count  Dtype  \n",
            "---  ------                             --------------  -----  \n",
            " 0   Rendimento médio (kg/ha)           140 non-null    int64  \n",
            " 1   Área colhida (ha)                  140 non-null    int64  \n",
            " 2   Quantidade produzida (ton)         140 non-null    int64  \n",
            " 3   Valor de produção (mil reais)      140 non-null    int64  \n",
            " 4   Total de contratos                 140 non-null    int64  \n",
            " 5   Estoque de crédito rural (reais)   140 non-null    float64\n",
            " 6   Pessoal ocupado                    140 non-null    int64  \n",
            " 7   Número de maquinário               140 non-null    int64  \n",
            " 8   Temperatura Media Anual (°C)       140 non-null    float64\n",
            " 9   Precipitação Media Semestral (mm)  140 non-null    float64\n",
            "dtypes: float64(3), int64(7)\n",
            "memory usage: 11.1 KB\n"
          ]
        }
      ]
    },
    {
      "cell_type": "code",
      "source": [
        "# Retirando os outliers de moderados e extremos\n",
        "from scipy import stats\n",
        "df2 = df2[(np.abs(stats.zscore(df2)) < 1.5).all(axis=1)]"
      ],
      "metadata": {
        "id": "c2RkELktrpYG"
      },
      "execution_count": null,
      "outputs": []
    },
    {
      "cell_type": "code",
      "source": [
        "#Variáveis independentes\n",
        "X = df2.drop(['Rendimento médio (kg/ha)', 'Quantidade produzida (ton)', 'Total de contratos', 'Estoque de crédito rural (reais)', 'Pessoal ocupado'],axis=1)\n",
        "\n",
        "#Variável dependentes\n",
        "y = df2['Rendimento médio (kg/ha)']"
      ],
      "metadata": {
        "id": "cCptd5dErLQf"
      },
      "execution_count": null,
      "outputs": []
    },
    {
      "cell_type": "code",
      "source": [
        "# Importação do Pacote\n",
        "import statsmodels.api as sm\n",
        "\n",
        "# modelo de regressão múltipla\n",
        "modelo_FINAL_so = (sm.OLS(y,sm.add_constant(X)).fit())\n",
        "modelo_FINAL_so.summary(title='Sumário do modelo FINAL com intercepto sem outliers (m-e)')"
      ],
      "metadata": {
        "colab": {
          "base_uri": "https://localhost:8080/",
          "height": 626
        },
        "id": "FpGmsgExrkGV",
        "outputId": "bb988c8b-bd4e-4213-95cc-66b2f9911eec"
      },
      "execution_count": null,
      "outputs": [
        {
          "output_type": "stream",
          "name": "stderr",
          "text": [
            "/usr/local/lib/python3.8/dist-packages/statsmodels/tsa/tsatools.py:142: FutureWarning: In a future version of pandas all arguments of concat except for the argument 'objs' will be keyword-only\n",
            "  x = pd.concat(x[::order], 1)\n"
          ]
        },
        {
          "output_type": "execute_result",
          "data": {
            "text/plain": [
              "<class 'statsmodels.iolib.summary.Summary'>\n",
              "\"\"\"\n",
              "             Sumário do modelo FINAL com intercepto sem outliers (m-e)              \n",
              "====================================================================================\n",
              "Dep. Variable:     Rendimento médio (kg/ha)   R-squared:                       0.694\n",
              "Model:                                  OLS   Adj. R-squared:                  0.673\n",
              "Method:                       Least Squares   F-statistic:                     31.80\n",
              "Date:                      Mon, 23 Jan 2023   Prob (F-statistic):           9.30e-17\n",
              "Time:                              22:12:12   Log-Likelihood:                -547.05\n",
              "No. Observations:                        76   AIC:                             1106.\n",
              "Df Residuals:                            70   BIC:                             1120.\n",
              "Df Model:                                 5                                         \n",
              "Covariance Type:                  nonrobust                                         \n",
              "=====================================================================================================\n",
              "                                        coef    std err          t      P>|t|      [0.025      0.975]\n",
              "-----------------------------------------------------------------------------------------------------\n",
              "const                             -5169.6522   1627.353     -3.177      0.002   -8415.306   -1923.999\n",
              "Área colhida (ha)                    -0.0183      0.003     -6.233      0.000      -0.024      -0.012\n",
              "Valor de produção (mil reais)         0.0072      0.001      5.645      0.000       0.005       0.010\n",
              "Número de maquinário                  0.6684      0.124      5.368      0.000       0.420       0.917\n",
              "Temperatura Media Anual (°C)        244.5365     60.117      4.068      0.000     124.636     364.437\n",
              "Precipitação Media Semestral (mm)     2.4128      0.533      4.524      0.000       1.349       3.477\n",
              "==============================================================================\n",
              "Omnibus:                        2.386   Durbin-Watson:                   1.809\n",
              "Prob(Omnibus):                  0.303   Jarque-Bera (JB):                1.926\n",
              "Skew:                           0.245   Prob(JB):                        0.382\n",
              "Kurtosis:                       2.392   Cond. No.                     2.91e+06\n",
              "==============================================================================\n",
              "\n",
              "Notes:\n",
              "[1] Standard Errors assume that the covariance matrix of the errors is correctly specified.\n",
              "[2] The condition number is large, 2.91e+06. This might indicate that there are\n",
              "strong multicollinearity or other numerical problems.\n",
              "\"\"\""
            ],
            "text/html": [
              "<table class=\"simpletable\">\n",
              "<caption>Sumário do modelo FINAL com intercepto sem outliers (m-e)</caption>\n",
              "<tr>\n",
              "  <th>Dep. Variable:</th>    <td>Rendimento médio (kg/ha)</td> <th>  R-squared:         </th> <td>   0.694</td>\n",
              "</tr>\n",
              "<tr>\n",
              "  <th>Model:</th>                       <td>OLS</td>           <th>  Adj. R-squared:    </th> <td>   0.673</td>\n",
              "</tr>\n",
              "<tr>\n",
              "  <th>Method:</th>                 <td>Least Squares</td>      <th>  F-statistic:       </th> <td>   31.80</td>\n",
              "</tr>\n",
              "<tr>\n",
              "  <th>Date:</th>                 <td>Mon, 23 Jan 2023</td>     <th>  Prob (F-statistic):</th> <td>9.30e-17</td>\n",
              "</tr>\n",
              "<tr>\n",
              "  <th>Time:</th>                     <td>22:12:12</td>         <th>  Log-Likelihood:    </th> <td> -547.05</td>\n",
              "</tr>\n",
              "<tr>\n",
              "  <th>No. Observations:</th>          <td>    76</td>          <th>  AIC:               </th> <td>   1106.</td>\n",
              "</tr>\n",
              "<tr>\n",
              "  <th>Df Residuals:</th>              <td>    70</td>          <th>  BIC:               </th> <td>   1120.</td>\n",
              "</tr>\n",
              "<tr>\n",
              "  <th>Df Model:</th>                  <td>     5</td>          <th>                     </th>     <td> </td>   \n",
              "</tr>\n",
              "<tr>\n",
              "  <th>Covariance Type:</th>          <td>nonrobust</td>        <th>                     </th>     <td> </td>   \n",
              "</tr>\n",
              "</table>\n",
              "<table class=\"simpletable\">\n",
              "<tr>\n",
              "                  <td></td>                     <th>coef</th>     <th>std err</th>      <th>t</th>      <th>P>|t|</th>  <th>[0.025</th>    <th>0.975]</th>  \n",
              "</tr>\n",
              "<tr>\n",
              "  <th>const</th>                             <td>-5169.6522</td> <td> 1627.353</td> <td>   -3.177</td> <td> 0.002</td> <td>-8415.306</td> <td>-1923.999</td>\n",
              "</tr>\n",
              "<tr>\n",
              "  <th>Área colhida (ha)</th>                 <td>   -0.0183</td> <td>    0.003</td> <td>   -6.233</td> <td> 0.000</td> <td>   -0.024</td> <td>   -0.012</td>\n",
              "</tr>\n",
              "<tr>\n",
              "  <th>Valor de produção (mil reais)</th>     <td>    0.0072</td> <td>    0.001</td> <td>    5.645</td> <td> 0.000</td> <td>    0.005</td> <td>    0.010</td>\n",
              "</tr>\n",
              "<tr>\n",
              "  <th>Número de maquinário</th>              <td>    0.6684</td> <td>    0.124</td> <td>    5.368</td> <td> 0.000</td> <td>    0.420</td> <td>    0.917</td>\n",
              "</tr>\n",
              "<tr>\n",
              "  <th>Temperatura Media Anual (°C)</th>      <td>  244.5365</td> <td>   60.117</td> <td>    4.068</td> <td> 0.000</td> <td>  124.636</td> <td>  364.437</td>\n",
              "</tr>\n",
              "<tr>\n",
              "  <th>Precipitação Media Semestral (mm)</th> <td>    2.4128</td> <td>    0.533</td> <td>    4.524</td> <td> 0.000</td> <td>    1.349</td> <td>    3.477</td>\n",
              "</tr>\n",
              "</table>\n",
              "<table class=\"simpletable\">\n",
              "<tr>\n",
              "  <th>Omnibus:</th>       <td> 2.386</td> <th>  Durbin-Watson:     </th> <td>   1.809</td>\n",
              "</tr>\n",
              "<tr>\n",
              "  <th>Prob(Omnibus):</th> <td> 0.303</td> <th>  Jarque-Bera (JB):  </th> <td>   1.926</td>\n",
              "</tr>\n",
              "<tr>\n",
              "  <th>Skew:</th>          <td> 0.245</td> <th>  Prob(JB):          </th> <td>   0.382</td>\n",
              "</tr>\n",
              "<tr>\n",
              "  <th>Kurtosis:</th>      <td> 2.392</td> <th>  Cond. No.          </th> <td>2.91e+06</td>\n",
              "</tr>\n",
              "</table><br/><br/>Notes:<br/>[1] Standard Errors assume that the covariance matrix of the errors is correctly specified.<br/>[2] The condition number is large, 2.91e+06. This might indicate that there are<br/>strong multicollinearity or other numerical problems."
            ]
          },
          "metadata": {},
          "execution_count": 47
        }
      ]
    }
  ]
}